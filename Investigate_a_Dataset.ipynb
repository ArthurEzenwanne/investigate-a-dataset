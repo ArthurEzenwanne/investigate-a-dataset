{
 "cells": [
  {
   "cell_type": "markdown",
   "metadata": {},
   "source": [
    "# Project: Investigate a Dataset - Medical Appointments No Shows\n",
    "\n",
    "## Table of Contents\n",
    "<ul>\n",
    "<li><a href=\"#intro\">Introduction</a></li>\n",
    "<li><a href=\"#wrangling\">Data Wrangling</a></li>\n",
    "<li><a href=\"#eda\">Exploratory Data Analysis</a></li>\n",
    "<li><a href=\"#conclusions\">Conclusions</a></li>\n",
    "</ul>"
   ]
  },
  {
   "cell_type": "markdown",
   "metadata": {},
   "source": [
    "<a id='intro'></a>\n",
    "## Introduction\n",
    "\n",
    "### Dataset Description  \n",
    "\n",
    "This dataset collects information from over 110,000 medical appointments in Brazil in 14 associated variables and is focused on the question of whether or not patients show up for their appointments.\n",
    "\n",
    "The data dictionary is given below:\n",
    "1. **PatientId**: Identification of a patient\n",
    "2. **AppointmentID**: Identification of each appointment\n",
    "3. **Gender**: Male or Female\n",
    "4. **ScheduledDay**: Date appointment was booked\n",
    "5. **AppointmentDay**: Date for the appointment visit\n",
    "6. **Age**: Age of the patient\n",
    "7. **Neighbourhood**: Where the appointment takes place (city, town, provience, etc)\n",
    "8. **Scholarship**: True or False if patient receives Government health benefits/subsidies\n",
    "9. **Hipertension**: True or False if patient is hypertensive\n",
    "10. **Diabetes**: True or False if patient is diabetic\n",
    "11. **Alcoholism**: True or False if patient has an alcoholism condition\n",
    "12. **Handcap**: True or False if patient is handicaped\n",
    "13. **SMS_received**: 1 or more messages sent to the patient\n",
    "14. **No-show**: True or False if patient shows up for the appointment\n",
    "\n",
    "### Question(s) for Analysis\n",
    "1. What factors are important for us to know in order to predict if a patient will show up for their scheduled appointment?\n",
    "2. How does the presence of a health condition affect the showing up or not of a patient?\n",
    "3. Is there a relationship between the number of days to the appointment and failure to show up for the appointment?"
   ]
  },
  {
   "cell_type": "code",
   "execution_count": 1,
   "metadata": {
    "collapsed": true
   },
   "outputs": [
    {
     "name": "stderr",
     "output_type": "stream",
     "text": [
      "WARNING: Retrying (Retry(total=4, connect=None, read=None, redirect=None, status=None)) after connection broken by 'NewConnectionError('<pip._vendor.urllib3.connection.HTTPSConnection object at 0x000001AB02157BB0>: Failed to establish a new connection: [Errno 11001] getaddrinfo failed')': /simple/pandas/\n",
      "WARNING: Retrying (Retry(total=3, connect=None, read=None, redirect=None, status=None)) after connection broken by 'NewConnectionError('<pip._vendor.urllib3.connection.HTTPSConnection object at 0x000001AB02157E80>: Failed to establish a new connection: [Errno 11001] getaddrinfo failed')': /simple/pandas/\n",
      "WARNING: Retrying (Retry(total=2, connect=None, read=None, redirect=None, status=None)) after connection broken by 'NewConnectionError('<pip._vendor.urllib3.connection.HTTPSConnection object at 0x000001AB02157D90>: Failed to establish a new connection: [Errno 11001] getaddrinfo failed')': /simple/pandas/\n",
      "WARNING: Retrying (Retry(total=1, connect=None, read=None, redirect=None, status=None)) after connection broken by 'NewConnectionError('<pip._vendor.urllib3.connection.HTTPSConnection object at 0x000001AB02157FA0>: Failed to establish a new connection: [Errno 11001] getaddrinfo failed')': /simple/pandas/\n",
      "WARNING: Retrying (Retry(total=0, connect=None, read=None, redirect=None, status=None)) after connection broken by 'NewConnectionError('<pip._vendor.urllib3.connection.HTTPSConnection object at 0x000001AB020EF070>: Failed to establish a new connection: [Errno 11001] getaddrinfo failed')': /simple/pandas/\n",
      "ERROR: Could not find a version that satisfies the requirement pandas==0.25.0 (from versions: none)\n",
      "ERROR: No matching distribution found for pandas==0.25.0\n"
     ]
    }
   ],
   "source": [
    "# Upgrade pandas to use dataframe.explode() function. \n",
    "!pip install --upgrade pandas==0.25.0"
   ]
  },
  {
   "cell_type": "code",
   "execution_count": 2,
   "metadata": {},
   "outputs": [],
   "source": [
    "# import statements for necessary packages\n",
    "import numpy as np\n",
    "import pandas as pd\n",
    "import seaborn as sns\n",
    "import matplotlib.pyplot as plt\n",
    "%matplotlib inline"
   ]
  },
  {
   "cell_type": "markdown",
   "metadata": {},
   "source": [
    "<a id='wrangling'></a>\n",
    "## Data Wrangling"
   ]
  },
  {
   "cell_type": "code",
   "execution_count": 3,
   "metadata": {},
   "outputs": [
    {
     "data": {
      "text/html": [
       "<div>\n",
       "<style scoped>\n",
       "    .dataframe tbody tr th:only-of-type {\n",
       "        vertical-align: middle;\n",
       "    }\n",
       "\n",
       "    .dataframe tbody tr th {\n",
       "        vertical-align: top;\n",
       "    }\n",
       "\n",
       "    .dataframe thead th {\n",
       "        text-align: right;\n",
       "    }\n",
       "</style>\n",
       "<table border=\"1\" class=\"dataframe\">\n",
       "  <thead>\n",
       "    <tr style=\"text-align: right;\">\n",
       "      <th></th>\n",
       "      <th>PatientId</th>\n",
       "      <th>AppointmentID</th>\n",
       "      <th>Gender</th>\n",
       "      <th>ScheduledDay</th>\n",
       "      <th>AppointmentDay</th>\n",
       "      <th>Age</th>\n",
       "      <th>Neighbourhood</th>\n",
       "      <th>Scholarship</th>\n",
       "      <th>Hipertension</th>\n",
       "      <th>Diabetes</th>\n",
       "      <th>Alcoholism</th>\n",
       "      <th>Handcap</th>\n",
       "      <th>SMS_received</th>\n",
       "      <th>No-show</th>\n",
       "    </tr>\n",
       "  </thead>\n",
       "  <tbody>\n",
       "    <tr>\n",
       "      <th>110522</th>\n",
       "      <td>2.572134e+12</td>\n",
       "      <td>5651768</td>\n",
       "      <td>F</td>\n",
       "      <td>2016-05-03T09:15:35Z</td>\n",
       "      <td>2016-06-07T00:00:00Z</td>\n",
       "      <td>56</td>\n",
       "      <td>MARIA ORTIZ</td>\n",
       "      <td>0</td>\n",
       "      <td>0</td>\n",
       "      <td>0</td>\n",
       "      <td>0</td>\n",
       "      <td>0</td>\n",
       "      <td>1</td>\n",
       "      <td>No</td>\n",
       "    </tr>\n",
       "    <tr>\n",
       "      <th>110523</th>\n",
       "      <td>3.596266e+12</td>\n",
       "      <td>5650093</td>\n",
       "      <td>F</td>\n",
       "      <td>2016-05-03T07:27:33Z</td>\n",
       "      <td>2016-06-07T00:00:00Z</td>\n",
       "      <td>51</td>\n",
       "      <td>MARIA ORTIZ</td>\n",
       "      <td>0</td>\n",
       "      <td>0</td>\n",
       "      <td>0</td>\n",
       "      <td>0</td>\n",
       "      <td>0</td>\n",
       "      <td>1</td>\n",
       "      <td>No</td>\n",
       "    </tr>\n",
       "    <tr>\n",
       "      <th>110524</th>\n",
       "      <td>1.557663e+13</td>\n",
       "      <td>5630692</td>\n",
       "      <td>F</td>\n",
       "      <td>2016-04-27T16:03:52Z</td>\n",
       "      <td>2016-06-07T00:00:00Z</td>\n",
       "      <td>21</td>\n",
       "      <td>MARIA ORTIZ</td>\n",
       "      <td>0</td>\n",
       "      <td>0</td>\n",
       "      <td>0</td>\n",
       "      <td>0</td>\n",
       "      <td>0</td>\n",
       "      <td>1</td>\n",
       "      <td>No</td>\n",
       "    </tr>\n",
       "    <tr>\n",
       "      <th>110525</th>\n",
       "      <td>9.213493e+13</td>\n",
       "      <td>5630323</td>\n",
       "      <td>F</td>\n",
       "      <td>2016-04-27T15:09:23Z</td>\n",
       "      <td>2016-06-07T00:00:00Z</td>\n",
       "      <td>38</td>\n",
       "      <td>MARIA ORTIZ</td>\n",
       "      <td>0</td>\n",
       "      <td>0</td>\n",
       "      <td>0</td>\n",
       "      <td>0</td>\n",
       "      <td>0</td>\n",
       "      <td>1</td>\n",
       "      <td>No</td>\n",
       "    </tr>\n",
       "    <tr>\n",
       "      <th>110526</th>\n",
       "      <td>3.775115e+14</td>\n",
       "      <td>5629448</td>\n",
       "      <td>F</td>\n",
       "      <td>2016-04-27T13:30:56Z</td>\n",
       "      <td>2016-06-07T00:00:00Z</td>\n",
       "      <td>54</td>\n",
       "      <td>MARIA ORTIZ</td>\n",
       "      <td>0</td>\n",
       "      <td>0</td>\n",
       "      <td>0</td>\n",
       "      <td>0</td>\n",
       "      <td>0</td>\n",
       "      <td>1</td>\n",
       "      <td>No</td>\n",
       "    </tr>\n",
       "  </tbody>\n",
       "</table>\n",
       "</div>"
      ],
      "text/plain": [
       "           PatientId  AppointmentID Gender          ScheduledDay  \\\n",
       "110522  2.572134e+12        5651768      F  2016-05-03T09:15:35Z   \n",
       "110523  3.596266e+12        5650093      F  2016-05-03T07:27:33Z   \n",
       "110524  1.557663e+13        5630692      F  2016-04-27T16:03:52Z   \n",
       "110525  9.213493e+13        5630323      F  2016-04-27T15:09:23Z   \n",
       "110526  3.775115e+14        5629448      F  2016-04-27T13:30:56Z   \n",
       "\n",
       "              AppointmentDay  Age Neighbourhood  Scholarship  Hipertension  \\\n",
       "110522  2016-06-07T00:00:00Z   56   MARIA ORTIZ            0             0   \n",
       "110523  2016-06-07T00:00:00Z   51   MARIA ORTIZ            0             0   \n",
       "110524  2016-06-07T00:00:00Z   21   MARIA ORTIZ            0             0   \n",
       "110525  2016-06-07T00:00:00Z   38   MARIA ORTIZ            0             0   \n",
       "110526  2016-06-07T00:00:00Z   54   MARIA ORTIZ            0             0   \n",
       "\n",
       "        Diabetes  Alcoholism  Handcap  SMS_received No-show  \n",
       "110522         0           0        0             1      No  \n",
       "110523         0           0        0             1      No  \n",
       "110524         0           0        0             1      No  \n",
       "110525         0           0        0             1      No  \n",
       "110526         0           0        0             1      No  "
      ]
     },
     "execution_count": 3,
     "metadata": {},
     "output_type": "execute_result"
    }
   ],
   "source": [
    "# read in the data and read a few lines of the data\n",
    "df = pd.read_csv(\"Database_No_show_appointments/noshowappointments-kagglev2-may-2016.csv\")\n",
    "df.tail()"
   ]
  },
  {
   "cell_type": "code",
   "execution_count": 4,
   "metadata": {},
   "outputs": [
    {
     "name": "stdout",
     "output_type": "stream",
     "text": [
      "<class 'pandas.core.frame.DataFrame'>\n",
      "RangeIndex: 110527 entries, 0 to 110526\n",
      "Data columns (total 14 columns):\n",
      " #   Column          Non-Null Count   Dtype  \n",
      "---  ------          --------------   -----  \n",
      " 0   PatientId       110527 non-null  float64\n",
      " 1   AppointmentID   110527 non-null  int64  \n",
      " 2   Gender          110527 non-null  object \n",
      " 3   ScheduledDay    110527 non-null  object \n",
      " 4   AppointmentDay  110527 non-null  object \n",
      " 5   Age             110527 non-null  int64  \n",
      " 6   Neighbourhood   110527 non-null  object \n",
      " 7   Scholarship     110527 non-null  int64  \n",
      " 8   Hipertension    110527 non-null  int64  \n",
      " 9   Diabetes        110527 non-null  int64  \n",
      " 10  Alcoholism      110527 non-null  int64  \n",
      " 11  Handcap         110527 non-null  int64  \n",
      " 12  SMS_received    110527 non-null  int64  \n",
      " 13  No-show         110527 non-null  object \n",
      "dtypes: float64(1), int64(8), object(5)\n",
      "memory usage: 11.8+ MB\n"
     ]
    }
   ],
   "source": [
    "# inspect the data\n",
    "df.info()"
   ]
  },
  {
   "cell_type": "code",
   "execution_count": 5,
   "metadata": {},
   "outputs": [
    {
     "data": {
      "text/plain": [
       "0"
      ]
     },
     "execution_count": 5,
     "metadata": {},
     "output_type": "execute_result"
    }
   ],
   "source": [
    "# check for duplicate records\n",
    "df.duplicated().sum()"
   ]
  },
  {
   "cell_type": "code",
   "execution_count": 6,
   "metadata": {},
   "outputs": [
    {
     "data": {
      "text/plain": [
       "PatientId         0\n",
       "AppointmentID     0\n",
       "Gender            0\n",
       "ScheduledDay      0\n",
       "AppointmentDay    0\n",
       "Age               0\n",
       "Neighbourhood     0\n",
       "Scholarship       0\n",
       "Hipertension      0\n",
       "Diabetes          0\n",
       "Alcoholism        0\n",
       "Handcap           0\n",
       "SMS_received      0\n",
       "No-show           0\n",
       "dtype: int64"
      ]
     },
     "execution_count": 6,
     "metadata": {},
     "output_type": "execute_result"
    }
   ],
   "source": [
    "# check for null records\n",
    "df.isna().sum()"
   ]
  },
  {
   "cell_type": "code",
   "execution_count": 7,
   "metadata": {
    "scrolled": true
   },
   "outputs": [
    {
     "data": {
      "text/html": [
       "<div>\n",
       "<style scoped>\n",
       "    .dataframe tbody tr th:only-of-type {\n",
       "        vertical-align: middle;\n",
       "    }\n",
       "\n",
       "    .dataframe tbody tr th {\n",
       "        vertical-align: top;\n",
       "    }\n",
       "\n",
       "    .dataframe thead th {\n",
       "        text-align: right;\n",
       "    }\n",
       "</style>\n",
       "<table border=\"1\" class=\"dataframe\">\n",
       "  <thead>\n",
       "    <tr style=\"text-align: right;\">\n",
       "      <th></th>\n",
       "      <th>ScheduledDay</th>\n",
       "      <th>AppointmentDay</th>\n",
       "    </tr>\n",
       "  </thead>\n",
       "  <tbody>\n",
       "    <tr>\n",
       "      <th>0</th>\n",
       "      <td>2016-04-29T18:38:08Z</td>\n",
       "      <td>2016-04-29T00:00:00Z</td>\n",
       "    </tr>\n",
       "    <tr>\n",
       "      <th>1</th>\n",
       "      <td>2016-04-29T16:08:27Z</td>\n",
       "      <td>2016-04-29T00:00:00Z</td>\n",
       "    </tr>\n",
       "    <tr>\n",
       "      <th>2</th>\n",
       "      <td>2016-04-29T16:19:04Z</td>\n",
       "      <td>2016-04-29T00:00:00Z</td>\n",
       "    </tr>\n",
       "    <tr>\n",
       "      <th>3</th>\n",
       "      <td>2016-04-29T17:29:31Z</td>\n",
       "      <td>2016-04-29T00:00:00Z</td>\n",
       "    </tr>\n",
       "    <tr>\n",
       "      <th>4</th>\n",
       "      <td>2016-04-29T16:07:23Z</td>\n",
       "      <td>2016-04-29T00:00:00Z</td>\n",
       "    </tr>\n",
       "  </tbody>\n",
       "</table>\n",
       "</div>"
      ],
      "text/plain": [
       "           ScheduledDay        AppointmentDay\n",
       "0  2016-04-29T18:38:08Z  2016-04-29T00:00:00Z\n",
       "1  2016-04-29T16:08:27Z  2016-04-29T00:00:00Z\n",
       "2  2016-04-29T16:19:04Z  2016-04-29T00:00:00Z\n",
       "3  2016-04-29T17:29:31Z  2016-04-29T00:00:00Z\n",
       "4  2016-04-29T16:07:23Z  2016-04-29T00:00:00Z"
      ]
     },
     "execution_count": 7,
     "metadata": {},
     "output_type": "execute_result"
    }
   ],
   "source": [
    "# inspect the ScheduledDay and AppointmentDay columns\n",
    "df[['ScheduledDay', 'AppointmentDay']][:5]"
   ]
  },
  {
   "cell_type": "markdown",
   "metadata": {},
   "source": [
    "### Data Cleaning\n",
    "\n",
    "From the visual and programmatic analysis performed; the dataset has few quality issues and no major tidiness concerns. These are identified and wranggled in the cells below."
   ]
  },
  {
   "cell_type": "code",
   "execution_count": 8,
   "metadata": {},
   "outputs": [
    {
     "data": {
      "text/plain": [
       "Index(['patientid', 'appointmentid', 'gender', 'scheduledday',\n",
       "       'appointmentday', 'age', 'neighbourhood', 'scholarship', 'hipertension',\n",
       "       'diabetes', 'alcoholism', 'handcap', 'smsreceived', 'noshow'],\n",
       "      dtype='object')"
      ]
     },
     "execution_count": 8,
     "metadata": {},
     "output_type": "execute_result"
    }
   ],
   "source": [
    "# Issue 1: Inconsistent column names \n",
    "# Code: Rename the columns to all lowercase, remove underscores and hyphens\n",
    "df.rename(columns=lambda x: x.lower(), inplace=True)\n",
    "df.rename(columns={'sms_received':'smsreceived', 'no-show':'noshow'}, inplace=True)\n",
    "\n",
    "# Test\n",
    "df.columns"
   ]
  },
  {
   "cell_type": "code",
   "execution_count": 9,
   "metadata": {},
   "outputs": [
    {
     "data": {
      "text/plain": [
       "Index(['patientid', 'appointmentid', 'gender', 'scheduledday',\n",
       "       'appointmentday', 'age', 'neighbourhood', 'scholarship', 'hypertension',\n",
       "       'diabetes', 'alcoholism', 'handicap', 'smsreceived', 'noshow'],\n",
       "      dtype='object')"
      ]
     },
     "execution_count": 9,
     "metadata": {},
     "output_type": "execute_result"
    }
   ],
   "source": [
    "# Issue 2: Wrongly spelt column names \n",
    "# Code: Rename the columns to use correct spellings\n",
    "df.rename(columns={'hipertension':'hypertension', 'handcap':'handicap'}, inplace=True)\n",
    "\n",
    "# Test\n",
    "df.columns"
   ]
  },
  {
   "cell_type": "code",
   "execution_count": 10,
   "metadata": {},
   "outputs": [
    {
     "data": {
      "text/html": [
       "<div>\n",
       "<style scoped>\n",
       "    .dataframe tbody tr th:only-of-type {\n",
       "        vertical-align: middle;\n",
       "    }\n",
       "\n",
       "    .dataframe tbody tr th {\n",
       "        vertical-align: top;\n",
       "    }\n",
       "\n",
       "    .dataframe thead th {\n",
       "        text-align: right;\n",
       "    }\n",
       "</style>\n",
       "<table border=\"1\" class=\"dataframe\">\n",
       "  <thead>\n",
       "    <tr style=\"text-align: right;\">\n",
       "      <th></th>\n",
       "      <th>scheduledday</th>\n",
       "      <th>appointmentday</th>\n",
       "    </tr>\n",
       "  </thead>\n",
       "  <tbody>\n",
       "    <tr>\n",
       "      <th>0</th>\n",
       "      <td>2016-04-29</td>\n",
       "      <td>2016-04-29</td>\n",
       "    </tr>\n",
       "    <tr>\n",
       "      <th>1</th>\n",
       "      <td>2016-04-29</td>\n",
       "      <td>2016-04-29</td>\n",
       "    </tr>\n",
       "    <tr>\n",
       "      <th>2</th>\n",
       "      <td>2016-04-29</td>\n",
       "      <td>2016-04-29</td>\n",
       "    </tr>\n",
       "    <tr>\n",
       "      <th>3</th>\n",
       "      <td>2016-04-29</td>\n",
       "      <td>2016-04-29</td>\n",
       "    </tr>\n",
       "    <tr>\n",
       "      <th>4</th>\n",
       "      <td>2016-04-29</td>\n",
       "      <td>2016-04-29</td>\n",
       "    </tr>\n",
       "  </tbody>\n",
       "</table>\n",
       "</div>"
      ],
      "text/plain": [
       "  scheduledday appointmentday\n",
       "0   2016-04-29     2016-04-29\n",
       "1   2016-04-29     2016-04-29\n",
       "2   2016-04-29     2016-04-29\n",
       "3   2016-04-29     2016-04-29\n",
       "4   2016-04-29     2016-04-29"
      ]
     },
     "execution_count": 10,
     "metadata": {},
     "output_type": "execute_result"
    }
   ],
   "source": [
    "# Issue 3: Unnecessary time component in scheduledday and appointmentday columns\n",
    "# Code: Remove time component in scheduledday and appointmentday columns since they are not necessary in the analysis\n",
    "df.scheduledday = df.scheduledday.apply(lambda x: x[:10].strip())\n",
    "df.appointmentday = df.appointmentday.apply(lambda x: x[:10].strip())\n",
    "\n",
    "# Test\n",
    "df[['scheduledday', 'appointmentday']][:5]"
   ]
  },
  {
   "cell_type": "code",
   "execution_count": 11,
   "metadata": {},
   "outputs": [
    {
     "name": "stdout",
     "output_type": "stream",
     "text": [
      "0   2016-04-29\n",
      "1   2016-04-29\n",
      "Name: scheduledday, dtype: datetime64[ns]\n",
      "0   2016-04-29\n",
      "1   2016-04-29\n",
      "Name: appointmentday, dtype: datetime64[ns]\n"
     ]
    }
   ],
   "source": [
    "# Issue 4: Wrong datatype for appointmentday and scheduleday columns\n",
    "# Code: Update the appointmentday and scheduleday columns to datetime objects\n",
    "df.scheduledday = pd.to_datetime(df.scheduledday)\n",
    "df.appointmentday = pd.to_datetime(df.appointmentday)\n",
    "\n",
    "# Test\n",
    "print(df.scheduledday[:2])\n",
    "print(df.appointmentday[:2])"
   ]
  },
  {
   "cell_type": "code",
   "execution_count": 12,
   "metadata": {},
   "outputs": [
    {
     "data": {
      "text/plain": [
       "(Timestamp('2016-06-08 00:00:00'),\n",
       " Timestamp('2016-04-29 00:00:00'),\n",
       " Timedelta('40 days 00:00:00'))"
      ]
     },
     "execution_count": 12,
     "metadata": {},
     "output_type": "execute_result"
    }
   ],
   "source": [
    "# view the range of values for the appointmentday feature\n",
    "df.appointmentday.max(), df.appointmentday.min(), df.appointmentday.max() - df.appointmentday.min()"
   ]
  },
  {
   "cell_type": "code",
   "execution_count": 13,
   "metadata": {},
   "outputs": [
    {
     "data": {
      "text/plain": [
       "(Timestamp('2016-06-08 00:00:00'),\n",
       " Timestamp('2015-11-10 00:00:00'),\n",
       " Timedelta('211 days 00:00:00'))"
      ]
     },
     "execution_count": 13,
     "metadata": {},
     "output_type": "execute_result"
    }
   ],
   "source": [
    "# view the range of values for the scheduledday feature\n",
    "df.scheduledday.max(), df.scheduledday.min(), df.scheduledday.max() - df.scheduledday.min()"
   ]
  },
  {
   "cell_type": "code",
   "execution_count": 14,
   "metadata": {},
   "outputs": [
    {
     "name": "stdout",
     "output_type": "stream",
     "text": [
      "<class 'pandas.core.frame.DataFrame'>\n",
      "RangeIndex: 110527 entries, 0 to 110526\n",
      "Data columns (total 12 columns):\n",
      " #   Column          Non-Null Count   Dtype         \n",
      "---  ------          --------------   -----         \n",
      " 0   gender          110527 non-null  object        \n",
      " 1   scheduledday    110527 non-null  datetime64[ns]\n",
      " 2   appointmentday  110527 non-null  datetime64[ns]\n",
      " 3   age             110527 non-null  int64         \n",
      " 4   neighbourhood   110527 non-null  object        \n",
      " 5   scholarship     110527 non-null  int64         \n",
      " 6   hypertension    110527 non-null  int64         \n",
      " 7   diabetes        110527 non-null  int64         \n",
      " 8   alcoholism      110527 non-null  int64         \n",
      " 9   handicap        110527 non-null  int64         \n",
      " 10  smsreceived     110527 non-null  int64         \n",
      " 11  noshow          110527 non-null  object        \n",
      "dtypes: datetime64[ns](2), int64(7), object(3)\n",
      "memory usage: 10.1+ MB\n"
     ]
    }
   ],
   "source": [
    "# Issue 5: Unnecessary columns in the dataset\n",
    "# Code: Remove patientid and appointmentid columns since they are not necessary in the analysis\n",
    "df.drop(['patientid', 'appointmentid'], axis=1, inplace=True) \n",
    "\n",
    "# Test\n",
    "df.info()"
   ]
  },
  {
   "cell_type": "code",
   "execution_count": 15,
   "metadata": {},
   "outputs": [
    {
     "data": {
      "text/plain": [
       "array(['No', 'Yes'], dtype=object)"
      ]
     },
     "execution_count": 15,
     "metadata": {},
     "output_type": "execute_result"
    }
   ],
   "source": [
    "# just thinking, should I change this to integer? 0 for No, 1 for Yes?\n",
    "df.noshow.unique()"
   ]
  },
  {
   "cell_type": "markdown",
   "metadata": {},
   "source": [
    "I believe that it is better to perform analysis using numerical or categorical values. Hence, I will be encoding the `noshow` column as numerical column.\n",
    "\n",
    "Note that for the `noshow` column, a `No` actually means that the patient showed up or came for their appointment. However, this seems confusing. So for pythonic simplicity, I'll be renaming the column and enoding the data appropriately."
   ]
  },
  {
   "cell_type": "code",
   "execution_count": 16,
   "metadata": {},
   "outputs": [
    {
     "data": {
      "text/html": [
       "<div>\n",
       "<style scoped>\n",
       "    .dataframe tbody tr th:only-of-type {\n",
       "        vertical-align: middle;\n",
       "    }\n",
       "\n",
       "    .dataframe tbody tr th {\n",
       "        vertical-align: top;\n",
       "    }\n",
       "\n",
       "    .dataframe thead th {\n",
       "        text-align: right;\n",
       "    }\n",
       "</style>\n",
       "<table border=\"1\" class=\"dataframe\">\n",
       "  <thead>\n",
       "    <tr style=\"text-align: right;\">\n",
       "      <th></th>\n",
       "      <th>gender</th>\n",
       "      <th>scheduledday</th>\n",
       "      <th>appointmentday</th>\n",
       "      <th>age</th>\n",
       "      <th>neighbourhood</th>\n",
       "      <th>scholarship</th>\n",
       "      <th>hypertension</th>\n",
       "      <th>diabetes</th>\n",
       "      <th>alcoholism</th>\n",
       "      <th>handicap</th>\n",
       "      <th>smsreceived</th>\n",
       "    </tr>\n",
       "    <tr>\n",
       "      <th>noshow</th>\n",
       "      <th></th>\n",
       "      <th></th>\n",
       "      <th></th>\n",
       "      <th></th>\n",
       "      <th></th>\n",
       "      <th></th>\n",
       "      <th></th>\n",
       "      <th></th>\n",
       "      <th></th>\n",
       "      <th></th>\n",
       "      <th></th>\n",
       "    </tr>\n",
       "  </thead>\n",
       "  <tbody>\n",
       "    <tr>\n",
       "      <th>No</th>\n",
       "      <td>88208</td>\n",
       "      <td>88208</td>\n",
       "      <td>88208</td>\n",
       "      <td>88208</td>\n",
       "      <td>88208</td>\n",
       "      <td>88208</td>\n",
       "      <td>88208</td>\n",
       "      <td>88208</td>\n",
       "      <td>88208</td>\n",
       "      <td>88208</td>\n",
       "      <td>88208</td>\n",
       "    </tr>\n",
       "    <tr>\n",
       "      <th>Yes</th>\n",
       "      <td>22319</td>\n",
       "      <td>22319</td>\n",
       "      <td>22319</td>\n",
       "      <td>22319</td>\n",
       "      <td>22319</td>\n",
       "      <td>22319</td>\n",
       "      <td>22319</td>\n",
       "      <td>22319</td>\n",
       "      <td>22319</td>\n",
       "      <td>22319</td>\n",
       "      <td>22319</td>\n",
       "    </tr>\n",
       "  </tbody>\n",
       "</table>\n",
       "</div>"
      ],
      "text/plain": [
       "        gender  scheduledday  appointmentday    age  neighbourhood  \\\n",
       "noshow                                                               \n",
       "No       88208         88208           88208  88208          88208   \n",
       "Yes      22319         22319           22319  22319          22319   \n",
       "\n",
       "        scholarship  hypertension  diabetes  alcoholism  handicap  smsreceived  \n",
       "noshow                                                                          \n",
       "No            88208         88208     88208       88208     88208        88208  \n",
       "Yes           22319         22319     22319       22319     22319        22319  "
      ]
     },
     "execution_count": 16,
     "metadata": {},
     "output_type": "execute_result"
    }
   ],
   "source": [
    "# viewing the grouping of the dataset by the noshow feature\n",
    "df.groupby(['noshow']).count()"
   ]
  },
  {
   "cell_type": "code",
   "execution_count": 17,
   "metadata": {},
   "outputs": [
    {
     "data": {
      "text/html": [
       "<div>\n",
       "<style scoped>\n",
       "    .dataframe tbody tr th:only-of-type {\n",
       "        vertical-align: middle;\n",
       "    }\n",
       "\n",
       "    .dataframe tbody tr th {\n",
       "        vertical-align: top;\n",
       "    }\n",
       "\n",
       "    .dataframe thead th {\n",
       "        text-align: right;\n",
       "    }\n",
       "</style>\n",
       "<table border=\"1\" class=\"dataframe\">\n",
       "  <thead>\n",
       "    <tr style=\"text-align: right;\">\n",
       "      <th></th>\n",
       "      <th>gender</th>\n",
       "      <th>scheduledday</th>\n",
       "      <th>appointmentday</th>\n",
       "      <th>age</th>\n",
       "      <th>neighbourhood</th>\n",
       "      <th>scholarship</th>\n",
       "      <th>hypertension</th>\n",
       "      <th>diabetes</th>\n",
       "      <th>alcoholism</th>\n",
       "      <th>handicap</th>\n",
       "      <th>smsreceived</th>\n",
       "    </tr>\n",
       "    <tr>\n",
       "      <th>showedup</th>\n",
       "      <th></th>\n",
       "      <th></th>\n",
       "      <th></th>\n",
       "      <th></th>\n",
       "      <th></th>\n",
       "      <th></th>\n",
       "      <th></th>\n",
       "      <th></th>\n",
       "      <th></th>\n",
       "      <th></th>\n",
       "      <th></th>\n",
       "    </tr>\n",
       "  </thead>\n",
       "  <tbody>\n",
       "    <tr>\n",
       "      <th>0</th>\n",
       "      <td>22319</td>\n",
       "      <td>22319</td>\n",
       "      <td>22319</td>\n",
       "      <td>22319</td>\n",
       "      <td>22319</td>\n",
       "      <td>22319</td>\n",
       "      <td>22319</td>\n",
       "      <td>22319</td>\n",
       "      <td>22319</td>\n",
       "      <td>22319</td>\n",
       "      <td>22319</td>\n",
       "    </tr>\n",
       "    <tr>\n",
       "      <th>1</th>\n",
       "      <td>88208</td>\n",
       "      <td>88208</td>\n",
       "      <td>88208</td>\n",
       "      <td>88208</td>\n",
       "      <td>88208</td>\n",
       "      <td>88208</td>\n",
       "      <td>88208</td>\n",
       "      <td>88208</td>\n",
       "      <td>88208</td>\n",
       "      <td>88208</td>\n",
       "      <td>88208</td>\n",
       "    </tr>\n",
       "  </tbody>\n",
       "</table>\n",
       "</div>"
      ],
      "text/plain": [
       "          gender  scheduledday  appointmentday    age  neighbourhood  \\\n",
       "showedup                                                               \n",
       "0          22319         22319           22319  22319          22319   \n",
       "1          88208         88208           88208  88208          88208   \n",
       "\n",
       "          scholarship  hypertension  diabetes  alcoholism  handicap  \\\n",
       "showedup                                                              \n",
       "0               22319         22319     22319       22319     22319   \n",
       "1               88208         88208     88208       88208     88208   \n",
       "\n",
       "          smsreceived  \n",
       "showedup               \n",
       "0               22319  \n",
       "1               88208  "
      ]
     },
     "execution_count": 17,
     "metadata": {},
     "output_type": "execute_result"
    }
   ],
   "source": [
    "# encode gender numerical columns ('M' == 1, 'F' == 0)\n",
    "# df.gender = df.gender.apply(lambda x: '' if x in [1,2,3,4] else 0)\n",
    "\n",
    "# Issue 6: Ambiguity in the representation of the noshow column \n",
    "# Code: Rename and encode noshow column as numerical columns ('No' == 0, 'Yes' == 1)\n",
    "df.rename(columns={'noshow':'showedup'}, inplace=True)\n",
    "df.showedup = df.showedup.apply(lambda x: 1 if x == 'No' else 0)\n",
    "\n",
    "# Test\n",
    "# viewing the grouping of the dataset by the updated noshow (now showedup) feature\n",
    "# 1 -- 88208; 0 -- 22319\n",
    "df.groupby(['showedup']).count()"
   ]
  },
  {
   "cell_type": "code",
   "execution_count": 18,
   "metadata": {},
   "outputs": [
    {
     "data": {
      "text/html": [
       "<div>\n",
       "<style scoped>\n",
       "    .dataframe tbody tr th:only-of-type {\n",
       "        vertical-align: middle;\n",
       "    }\n",
       "\n",
       "    .dataframe tbody tr th {\n",
       "        vertical-align: top;\n",
       "    }\n",
       "\n",
       "    .dataframe thead th {\n",
       "        text-align: right;\n",
       "    }\n",
       "</style>\n",
       "<table border=\"1\" class=\"dataframe\">\n",
       "  <thead>\n",
       "    <tr style=\"text-align: right;\">\n",
       "      <th></th>\n",
       "      <th>age</th>\n",
       "      <th>scholarship</th>\n",
       "      <th>hypertension</th>\n",
       "      <th>diabetes</th>\n",
       "      <th>alcoholism</th>\n",
       "      <th>handicap</th>\n",
       "      <th>smsreceived</th>\n",
       "      <th>showedup</th>\n",
       "    </tr>\n",
       "  </thead>\n",
       "  <tbody>\n",
       "    <tr>\n",
       "      <th>count</th>\n",
       "      <td>110527.000000</td>\n",
       "      <td>110527.000000</td>\n",
       "      <td>110527.000000</td>\n",
       "      <td>110527.000000</td>\n",
       "      <td>110527.000000</td>\n",
       "      <td>110527.000000</td>\n",
       "      <td>110527.000000</td>\n",
       "      <td>110527.000000</td>\n",
       "    </tr>\n",
       "    <tr>\n",
       "      <th>mean</th>\n",
       "      <td>37.088874</td>\n",
       "      <td>0.098266</td>\n",
       "      <td>0.197246</td>\n",
       "      <td>0.071865</td>\n",
       "      <td>0.030400</td>\n",
       "      <td>0.022248</td>\n",
       "      <td>0.321026</td>\n",
       "      <td>0.798067</td>\n",
       "    </tr>\n",
       "    <tr>\n",
       "      <th>std</th>\n",
       "      <td>23.110205</td>\n",
       "      <td>0.297675</td>\n",
       "      <td>0.397921</td>\n",
       "      <td>0.258265</td>\n",
       "      <td>0.171686</td>\n",
       "      <td>0.161543</td>\n",
       "      <td>0.466873</td>\n",
       "      <td>0.401444</td>\n",
       "    </tr>\n",
       "    <tr>\n",
       "      <th>min</th>\n",
       "      <td>-1.000000</td>\n",
       "      <td>0.000000</td>\n",
       "      <td>0.000000</td>\n",
       "      <td>0.000000</td>\n",
       "      <td>0.000000</td>\n",
       "      <td>0.000000</td>\n",
       "      <td>0.000000</td>\n",
       "      <td>0.000000</td>\n",
       "    </tr>\n",
       "    <tr>\n",
       "      <th>25%</th>\n",
       "      <td>18.000000</td>\n",
       "      <td>0.000000</td>\n",
       "      <td>0.000000</td>\n",
       "      <td>0.000000</td>\n",
       "      <td>0.000000</td>\n",
       "      <td>0.000000</td>\n",
       "      <td>0.000000</td>\n",
       "      <td>1.000000</td>\n",
       "    </tr>\n",
       "    <tr>\n",
       "      <th>50%</th>\n",
       "      <td>37.000000</td>\n",
       "      <td>0.000000</td>\n",
       "      <td>0.000000</td>\n",
       "      <td>0.000000</td>\n",
       "      <td>0.000000</td>\n",
       "      <td>0.000000</td>\n",
       "      <td>0.000000</td>\n",
       "      <td>1.000000</td>\n",
       "    </tr>\n",
       "    <tr>\n",
       "      <th>75%</th>\n",
       "      <td>55.000000</td>\n",
       "      <td>0.000000</td>\n",
       "      <td>0.000000</td>\n",
       "      <td>0.000000</td>\n",
       "      <td>0.000000</td>\n",
       "      <td>0.000000</td>\n",
       "      <td>1.000000</td>\n",
       "      <td>1.000000</td>\n",
       "    </tr>\n",
       "    <tr>\n",
       "      <th>max</th>\n",
       "      <td>115.000000</td>\n",
       "      <td>1.000000</td>\n",
       "      <td>1.000000</td>\n",
       "      <td>1.000000</td>\n",
       "      <td>1.000000</td>\n",
       "      <td>4.000000</td>\n",
       "      <td>1.000000</td>\n",
       "      <td>1.000000</td>\n",
       "    </tr>\n",
       "  </tbody>\n",
       "</table>\n",
       "</div>"
      ],
      "text/plain": [
       "                 age    scholarship   hypertension       diabetes  \\\n",
       "count  110527.000000  110527.000000  110527.000000  110527.000000   \n",
       "mean       37.088874       0.098266       0.197246       0.071865   \n",
       "std        23.110205       0.297675       0.397921       0.258265   \n",
       "min        -1.000000       0.000000       0.000000       0.000000   \n",
       "25%        18.000000       0.000000       0.000000       0.000000   \n",
       "50%        37.000000       0.000000       0.000000       0.000000   \n",
       "75%        55.000000       0.000000       0.000000       0.000000   \n",
       "max       115.000000       1.000000       1.000000       1.000000   \n",
       "\n",
       "          alcoholism       handicap    smsreceived       showedup  \n",
       "count  110527.000000  110527.000000  110527.000000  110527.000000  \n",
       "mean        0.030400       0.022248       0.321026       0.798067  \n",
       "std         0.171686       0.161543       0.466873       0.401444  \n",
       "min         0.000000       0.000000       0.000000       0.000000  \n",
       "25%         0.000000       0.000000       0.000000       1.000000  \n",
       "50%         0.000000       0.000000       0.000000       1.000000  \n",
       "75%         0.000000       0.000000       1.000000       1.000000  \n",
       "max         1.000000       4.000000       1.000000       1.000000  "
      ]
     },
     "execution_count": 18,
     "metadata": {},
     "output_type": "execute_result"
    }
   ],
   "source": [
    "# get summary statistics for the data\n",
    "df.describe()"
   ]
  },
  {
   "cell_type": "markdown",
   "metadata": {},
   "source": [
    "From the summary statistics above, the age column and the handicap columns needs to be further reviewed due to the presence of `-1` as an age in the age column and the `4` as the max value in the handicap column"
   ]
  },
  {
   "cell_type": "code",
   "execution_count": 19,
   "metadata": {},
   "outputs": [
    {
     "data": {
      "text/plain": [
       "array([0, 1, 2, 3, 4], dtype=int64)"
      ]
     },
     "metadata": {},
     "output_type": "display_data"
    },
    {
     "data": {
      "text/html": [
       "<div>\n",
       "<style scoped>\n",
       "    .dataframe tbody tr th:only-of-type {\n",
       "        vertical-align: middle;\n",
       "    }\n",
       "\n",
       "    .dataframe tbody tr th {\n",
       "        vertical-align: top;\n",
       "    }\n",
       "\n",
       "    .dataframe thead th {\n",
       "        text-align: right;\n",
       "    }\n",
       "</style>\n",
       "<table border=\"1\" class=\"dataframe\">\n",
       "  <thead>\n",
       "    <tr style=\"text-align: right;\">\n",
       "      <th></th>\n",
       "      <th>gender</th>\n",
       "      <th>scheduledday</th>\n",
       "      <th>appointmentday</th>\n",
       "      <th>age</th>\n",
       "      <th>neighbourhood</th>\n",
       "      <th>scholarship</th>\n",
       "      <th>hypertension</th>\n",
       "      <th>diabetes</th>\n",
       "      <th>alcoholism</th>\n",
       "      <th>smsreceived</th>\n",
       "      <th>showedup</th>\n",
       "    </tr>\n",
       "    <tr>\n",
       "      <th>handicap</th>\n",
       "      <th></th>\n",
       "      <th></th>\n",
       "      <th></th>\n",
       "      <th></th>\n",
       "      <th></th>\n",
       "      <th></th>\n",
       "      <th></th>\n",
       "      <th></th>\n",
       "      <th></th>\n",
       "      <th></th>\n",
       "      <th></th>\n",
       "    </tr>\n",
       "  </thead>\n",
       "  <tbody>\n",
       "    <tr>\n",
       "      <th>0</th>\n",
       "      <td>108286</td>\n",
       "      <td>108286</td>\n",
       "      <td>108286</td>\n",
       "      <td>108286</td>\n",
       "      <td>108286</td>\n",
       "      <td>108286</td>\n",
       "      <td>108286</td>\n",
       "      <td>108286</td>\n",
       "      <td>108286</td>\n",
       "      <td>108286</td>\n",
       "      <td>108286</td>\n",
       "    </tr>\n",
       "    <tr>\n",
       "      <th>1</th>\n",
       "      <td>2042</td>\n",
       "      <td>2042</td>\n",
       "      <td>2042</td>\n",
       "      <td>2042</td>\n",
       "      <td>2042</td>\n",
       "      <td>2042</td>\n",
       "      <td>2042</td>\n",
       "      <td>2042</td>\n",
       "      <td>2042</td>\n",
       "      <td>2042</td>\n",
       "      <td>2042</td>\n",
       "    </tr>\n",
       "    <tr>\n",
       "      <th>2</th>\n",
       "      <td>183</td>\n",
       "      <td>183</td>\n",
       "      <td>183</td>\n",
       "      <td>183</td>\n",
       "      <td>183</td>\n",
       "      <td>183</td>\n",
       "      <td>183</td>\n",
       "      <td>183</td>\n",
       "      <td>183</td>\n",
       "      <td>183</td>\n",
       "      <td>183</td>\n",
       "    </tr>\n",
       "    <tr>\n",
       "      <th>3</th>\n",
       "      <td>13</td>\n",
       "      <td>13</td>\n",
       "      <td>13</td>\n",
       "      <td>13</td>\n",
       "      <td>13</td>\n",
       "      <td>13</td>\n",
       "      <td>13</td>\n",
       "      <td>13</td>\n",
       "      <td>13</td>\n",
       "      <td>13</td>\n",
       "      <td>13</td>\n",
       "    </tr>\n",
       "    <tr>\n",
       "      <th>4</th>\n",
       "      <td>3</td>\n",
       "      <td>3</td>\n",
       "      <td>3</td>\n",
       "      <td>3</td>\n",
       "      <td>3</td>\n",
       "      <td>3</td>\n",
       "      <td>3</td>\n",
       "      <td>3</td>\n",
       "      <td>3</td>\n",
       "      <td>3</td>\n",
       "      <td>3</td>\n",
       "    </tr>\n",
       "  </tbody>\n",
       "</table>\n",
       "</div>"
      ],
      "text/plain": [
       "          gender  scheduledday  appointmentday     age  neighbourhood  \\\n",
       "handicap                                                                \n",
       "0         108286        108286          108286  108286         108286   \n",
       "1           2042          2042            2042    2042           2042   \n",
       "2            183           183             183     183            183   \n",
       "3             13            13              13      13             13   \n",
       "4              3             3               3       3              3   \n",
       "\n",
       "          scholarship  hypertension  diabetes  alcoholism  smsreceived  \\\n",
       "handicap                                                                 \n",
       "0              108286        108286    108286      108286       108286   \n",
       "1                2042          2042      2042        2042         2042   \n",
       "2                 183           183       183         183          183   \n",
       "3                  13            13        13          13           13   \n",
       "4                   3             3         3           3            3   \n",
       "\n",
       "          showedup  \n",
       "handicap            \n",
       "0           108286  \n",
       "1             2042  \n",
       "2              183  \n",
       "3               13  \n",
       "4                3  "
      ]
     },
     "metadata": {},
     "output_type": "display_data"
    }
   ],
   "source": [
    "# checking the handicap column for tidiness issues\n",
    "display(df.handicap.unique())\n",
    "\n",
    "# view the count of handicap values\n",
    "display(df.groupby(['handicap']).count())"
   ]
  },
  {
   "cell_type": "markdown",
   "metadata": {},
   "source": [
    "The handicap column should ideally use a `True` or `False` (1, 0) values for data reprensentation. The presence of 2, 3, and 4 may be attributed to users with multiple handicaps. Hence, those values should be recorded as 1 since the patient has a handicap.\n",
    "\n",
    "Note that each relevant column such as `gender`, `scholarship`, `hypertension`, `diabetes`, `alcoholism`, `handicap`, `smsreceived`, and `noshow` were equally accessed for their unique entries."
   ]
  },
  {
   "cell_type": "code",
   "execution_count": 20,
   "metadata": {},
   "outputs": [
    {
     "data": {
      "text/plain": [
       "array([0, 1], dtype=int64)"
      ]
     },
     "metadata": {},
     "output_type": "display_data"
    },
    {
     "data": {
      "text/html": [
       "<div>\n",
       "<style scoped>\n",
       "    .dataframe tbody tr th:only-of-type {\n",
       "        vertical-align: middle;\n",
       "    }\n",
       "\n",
       "    .dataframe tbody tr th {\n",
       "        vertical-align: top;\n",
       "    }\n",
       "\n",
       "    .dataframe thead th {\n",
       "        text-align: right;\n",
       "    }\n",
       "</style>\n",
       "<table border=\"1\" class=\"dataframe\">\n",
       "  <thead>\n",
       "    <tr style=\"text-align: right;\">\n",
       "      <th></th>\n",
       "      <th>gender</th>\n",
       "      <th>scheduledday</th>\n",
       "      <th>appointmentday</th>\n",
       "      <th>age</th>\n",
       "      <th>neighbourhood</th>\n",
       "      <th>scholarship</th>\n",
       "      <th>hypertension</th>\n",
       "      <th>diabetes</th>\n",
       "      <th>alcoholism</th>\n",
       "      <th>smsreceived</th>\n",
       "      <th>showedup</th>\n",
       "    </tr>\n",
       "    <tr>\n",
       "      <th>handicap</th>\n",
       "      <th></th>\n",
       "      <th></th>\n",
       "      <th></th>\n",
       "      <th></th>\n",
       "      <th></th>\n",
       "      <th></th>\n",
       "      <th></th>\n",
       "      <th></th>\n",
       "      <th></th>\n",
       "      <th></th>\n",
       "      <th></th>\n",
       "    </tr>\n",
       "  </thead>\n",
       "  <tbody>\n",
       "    <tr>\n",
       "      <th>0</th>\n",
       "      <td>108286</td>\n",
       "      <td>108286</td>\n",
       "      <td>108286</td>\n",
       "      <td>108286</td>\n",
       "      <td>108286</td>\n",
       "      <td>108286</td>\n",
       "      <td>108286</td>\n",
       "      <td>108286</td>\n",
       "      <td>108286</td>\n",
       "      <td>108286</td>\n",
       "      <td>108286</td>\n",
       "    </tr>\n",
       "    <tr>\n",
       "      <th>1</th>\n",
       "      <td>2241</td>\n",
       "      <td>2241</td>\n",
       "      <td>2241</td>\n",
       "      <td>2241</td>\n",
       "      <td>2241</td>\n",
       "      <td>2241</td>\n",
       "      <td>2241</td>\n",
       "      <td>2241</td>\n",
       "      <td>2241</td>\n",
       "      <td>2241</td>\n",
       "      <td>2241</td>\n",
       "    </tr>\n",
       "  </tbody>\n",
       "</table>\n",
       "</div>"
      ],
      "text/plain": [
       "          gender  scheduledday  appointmentday     age  neighbourhood  \\\n",
       "handicap                                                                \n",
       "0         108286        108286          108286  108286         108286   \n",
       "1           2241          2241            2241    2241           2241   \n",
       "\n",
       "          scholarship  hypertension  diabetes  alcoholism  smsreceived  \\\n",
       "handicap                                                                 \n",
       "0              108286        108286    108286      108286       108286   \n",
       "1                2241          2241      2241        2241         2241   \n",
       "\n",
       "          showedup  \n",
       "handicap            \n",
       "0           108286  \n",
       "1             2241  "
      ]
     },
     "metadata": {},
     "output_type": "display_data"
    }
   ],
   "source": [
    "# Issue 7: Multiple reprensentation of handicaps in the handicap column\n",
    "# Code: Record the handicap values 2, 3, and 4 as 1 since the patient has a handicap\n",
    "df.handicap = df.handicap.apply(lambda x: 1 if x in [1,2,3,4] else 0)\n",
    "\n",
    "# Test\n",
    "display(df.handicap.unique())\n",
    "\n",
    "# view the count of handicap values\n",
    "display(df.groupby(['handicap']).count())"
   ]
  },
  {
   "cell_type": "code",
   "execution_count": 21,
   "metadata": {},
   "outputs": [
    {
     "data": {
      "text/html": [
       "<div>\n",
       "<style scoped>\n",
       "    .dataframe tbody tr th:only-of-type {\n",
       "        vertical-align: middle;\n",
       "    }\n",
       "\n",
       "    .dataframe tbody tr th {\n",
       "        vertical-align: top;\n",
       "    }\n",
       "\n",
       "    .dataframe thead th {\n",
       "        text-align: right;\n",
       "    }\n",
       "</style>\n",
       "<table border=\"1\" class=\"dataframe\">\n",
       "  <thead>\n",
       "    <tr style=\"text-align: right;\">\n",
       "      <th></th>\n",
       "      <th>gender</th>\n",
       "      <th>scheduledday</th>\n",
       "      <th>appointmentday</th>\n",
       "      <th>age</th>\n",
       "      <th>neighbourhood</th>\n",
       "      <th>scholarship</th>\n",
       "      <th>hypertension</th>\n",
       "      <th>diabetes</th>\n",
       "      <th>alcoholism</th>\n",
       "      <th>handicap</th>\n",
       "      <th>smsreceived</th>\n",
       "      <th>showedup</th>\n",
       "    </tr>\n",
       "  </thead>\n",
       "  <tbody>\n",
       "    <tr>\n",
       "      <th>99832</th>\n",
       "      <td>F</td>\n",
       "      <td>2016-06-06</td>\n",
       "      <td>2016-06-06</td>\n",
       "      <td>-1</td>\n",
       "      <td>ROMÃO</td>\n",
       "      <td>0</td>\n",
       "      <td>0</td>\n",
       "      <td>0</td>\n",
       "      <td>0</td>\n",
       "      <td>0</td>\n",
       "      <td>0</td>\n",
       "      <td>1</td>\n",
       "    </tr>\n",
       "  </tbody>\n",
       "</table>\n",
       "</div>"
      ],
      "text/plain": [
       "      gender scheduledday appointmentday  age neighbourhood  scholarship  \\\n",
       "99832      F   2016-06-06     2016-06-06   -1         ROMÃO            0   \n",
       "\n",
       "       hypertension  diabetes  alcoholism  handicap  smsreceived  showedup  \n",
       "99832             0         0           0         0            0         1  "
      ]
     },
     "execution_count": 21,
     "metadata": {},
     "output_type": "execute_result"
    }
   ],
   "source": [
    "# checking the age column for quality issues\n",
    "df.loc[df.age == -1]"
   ]
  },
  {
   "cell_type": "code",
   "execution_count": 22,
   "metadata": {},
   "outputs": [
    {
     "data": {
      "text/plain": [
       "array([ -1,   0,   1,   2,   3,   4,   5,   6,   7,   8,   9,  10,  11,\n",
       "        12,  13,  14,  15,  16,  17,  18,  19,  20,  21,  22,  23,  24,\n",
       "        25,  26,  27,  28,  29,  30,  31,  32,  33,  34,  35,  36,  37,\n",
       "        38,  39,  40,  41,  42,  43,  44,  45,  46,  47,  48,  49,  50,\n",
       "        51,  52,  53,  54,  55,  56,  57,  58,  59,  60,  61,  62,  63,\n",
       "        64,  65,  66,  67,  68,  69,  70,  71,  72,  73,  74,  75,  76,\n",
       "        77,  78,  79,  80,  81,  82,  83,  84,  85,  86,  87,  88,  89,\n",
       "        90,  91,  92,  93,  94,  95,  96,  97,  98,  99, 100, 102, 115],\n",
       "      dtype=int64)"
      ]
     },
     "execution_count": 22,
     "metadata": {},
     "output_type": "execute_result"
    }
   ],
   "source": [
    "# view the unique values in the age column \n",
    "np.sort(df.age.unique())"
   ]
  },
  {
   "cell_type": "code",
   "execution_count": 23,
   "metadata": {},
   "outputs": [
    {
     "data": {
      "text/plain": [
       "3539"
      ]
     },
     "execution_count": 23,
     "metadata": {},
     "output_type": "execute_result"
    }
   ],
   "source": [
    "# get the number of records with age of 0\n",
    "df[df.age == 0].shape[0]"
   ]
  },
  {
   "cell_type": "markdown",
   "metadata": {},
   "source": [
    "The age column contains records with an age of `0`. My assumption is that these records belongs to babies not yet up to `1` year old. Hence, only the `-1` entry would need to be treated in the age column."
   ]
  },
  {
   "cell_type": "code",
   "execution_count": 24,
   "metadata": {},
   "outputs": [
    {
     "data": {
      "text/html": [
       "<div>\n",
       "<style scoped>\n",
       "    .dataframe tbody tr th:only-of-type {\n",
       "        vertical-align: middle;\n",
       "    }\n",
       "\n",
       "    .dataframe tbody tr th {\n",
       "        vertical-align: top;\n",
       "    }\n",
       "\n",
       "    .dataframe thead th {\n",
       "        text-align: right;\n",
       "    }\n",
       "</style>\n",
       "<table border=\"1\" class=\"dataframe\">\n",
       "  <thead>\n",
       "    <tr style=\"text-align: right;\">\n",
       "      <th></th>\n",
       "      <th>gender</th>\n",
       "      <th>scheduledday</th>\n",
       "      <th>appointmentday</th>\n",
       "      <th>age</th>\n",
       "      <th>neighbourhood</th>\n",
       "      <th>scholarship</th>\n",
       "      <th>hypertension</th>\n",
       "      <th>diabetes</th>\n",
       "      <th>alcoholism</th>\n",
       "      <th>handicap</th>\n",
       "      <th>smsreceived</th>\n",
       "      <th>showedup</th>\n",
       "    </tr>\n",
       "  </thead>\n",
       "  <tbody>\n",
       "  </tbody>\n",
       "</table>\n",
       "</div>"
      ],
      "text/plain": [
       "Empty DataFrame\n",
       "Columns: [gender, scheduledday, appointmentday, age, neighbourhood, scholarship, hypertension, diabetes, alcoholism, handicap, smsreceived, showedup]\n",
       "Index: []"
      ]
     },
     "metadata": {},
     "output_type": "display_data"
    }
   ],
   "source": [
    "# Issue 8: Minimum age in age column is -1\n",
    "# Code: Update the age feature for index 99832 to 1. I am assuming that the `-` is an entry error\n",
    "df.at[99832, 'age'] = 1\n",
    "\n",
    "# Test\n",
    "display(df.loc[df.age == -1])"
   ]
  },
  {
   "cell_type": "code",
   "execution_count": 25,
   "metadata": {},
   "outputs": [
    {
     "data": {
      "text/html": [
       "<div>\n",
       "<style scoped>\n",
       "    .dataframe tbody tr th:only-of-type {\n",
       "        vertical-align: middle;\n",
       "    }\n",
       "\n",
       "    .dataframe tbody tr th {\n",
       "        vertical-align: top;\n",
       "    }\n",
       "\n",
       "    .dataframe thead th {\n",
       "        text-align: right;\n",
       "    }\n",
       "</style>\n",
       "<table border=\"1\" class=\"dataframe\">\n",
       "  <thead>\n",
       "    <tr style=\"text-align: right;\">\n",
       "      <th></th>\n",
       "      <th>gender</th>\n",
       "      <th>scheduledday</th>\n",
       "      <th>appointmentday</th>\n",
       "      <th>age</th>\n",
       "      <th>neighbourhood</th>\n",
       "      <th>scholarship</th>\n",
       "      <th>hypertension</th>\n",
       "      <th>diabetes</th>\n",
       "      <th>alcoholism</th>\n",
       "      <th>handicap</th>\n",
       "      <th>smsreceived</th>\n",
       "      <th>showedup</th>\n",
       "    </tr>\n",
       "  </thead>\n",
       "  <tbody>\n",
       "  </tbody>\n",
       "</table>\n",
       "</div>"
      ],
      "text/plain": [
       "Empty DataFrame\n",
       "Columns: [gender, scheduledday, appointmentday, age, neighbourhood, scholarship, hypertension, diabetes, alcoholism, handicap, smsreceived, showedup]\n",
       "Index: []"
      ]
     },
     "execution_count": 25,
     "metadata": {},
     "output_type": "execute_result"
    }
   ],
   "source": [
    "# checking for santiy issues with the age feature\n",
    "# assuming that a child under 1 year old would not be an alcoholic\n",
    "df[(df.age <= 0) & (df.alcoholism == 1)]"
   ]
  },
  {
   "cell_type": "markdown",
   "metadata": {},
   "source": [
    "Since the number of unique values in the `age` column is much, it is advisable to categorize or bin the `age` of patients so as to clearly see the relationship between it and the `showedup` feature."
   ]
  },
  {
   "cell_type": "code",
   "execution_count": 26,
   "metadata": {},
   "outputs": [
    {
     "data": {
      "text/html": [
       "<div>\n",
       "<style scoped>\n",
       "    .dataframe tbody tr th:only-of-type {\n",
       "        vertical-align: middle;\n",
       "    }\n",
       "\n",
       "    .dataframe tbody tr th {\n",
       "        vertical-align: top;\n",
       "    }\n",
       "\n",
       "    .dataframe thead th {\n",
       "        text-align: right;\n",
       "    }\n",
       "</style>\n",
       "<table border=\"1\" class=\"dataframe\">\n",
       "  <thead>\n",
       "    <tr style=\"text-align: right;\">\n",
       "      <th></th>\n",
       "      <th>gender</th>\n",
       "      <th>scheduledday</th>\n",
       "      <th>appointmentday</th>\n",
       "      <th>age</th>\n",
       "      <th>neighbourhood</th>\n",
       "      <th>scholarship</th>\n",
       "      <th>hypertension</th>\n",
       "      <th>diabetes</th>\n",
       "      <th>alcoholism</th>\n",
       "      <th>handicap</th>\n",
       "      <th>smsreceived</th>\n",
       "      <th>showedup</th>\n",
       "      <th>agebins</th>\n",
       "    </tr>\n",
       "  </thead>\n",
       "  <tbody>\n",
       "    <tr>\n",
       "      <th>87956</th>\n",
       "      <td>F</td>\n",
       "      <td>2016-05-16</td>\n",
       "      <td>2016-06-03</td>\n",
       "      <td>68</td>\n",
       "      <td>ITARARÉ</td>\n",
       "      <td>0</td>\n",
       "      <td>1</td>\n",
       "      <td>1</td>\n",
       "      <td>0</td>\n",
       "      <td>0</td>\n",
       "      <td>0</td>\n",
       "      <td>1</td>\n",
       "      <td>6</td>\n",
       "    </tr>\n",
       "    <tr>\n",
       "      <th>3575</th>\n",
       "      <td>F</td>\n",
       "      <td>2016-04-13</td>\n",
       "      <td>2016-05-17</td>\n",
       "      <td>10</td>\n",
       "      <td>BONFIM</td>\n",
       "      <td>0</td>\n",
       "      <td>0</td>\n",
       "      <td>0</td>\n",
       "      <td>0</td>\n",
       "      <td>0</td>\n",
       "      <td>0</td>\n",
       "      <td>1</td>\n",
       "      <td>1</td>\n",
       "    </tr>\n",
       "    <tr>\n",
       "      <th>56648</th>\n",
       "      <td>F</td>\n",
       "      <td>2016-04-26</td>\n",
       "      <td>2016-05-05</td>\n",
       "      <td>57</td>\n",
       "      <td>ILHA DO PRÍNCIPE</td>\n",
       "      <td>1</td>\n",
       "      <td>0</td>\n",
       "      <td>0</td>\n",
       "      <td>0</td>\n",
       "      <td>0</td>\n",
       "      <td>1</td>\n",
       "      <td>0</td>\n",
       "      <td>5</td>\n",
       "    </tr>\n",
       "    <tr>\n",
       "      <th>110223</th>\n",
       "      <td>F</td>\n",
       "      <td>2016-05-11</td>\n",
       "      <td>2016-06-01</td>\n",
       "      <td>46</td>\n",
       "      <td>MARIA ORTIZ</td>\n",
       "      <td>0</td>\n",
       "      <td>0</td>\n",
       "      <td>0</td>\n",
       "      <td>0</td>\n",
       "      <td>0</td>\n",
       "      <td>1</td>\n",
       "      <td>0</td>\n",
       "      <td>4</td>\n",
       "    </tr>\n",
       "    <tr>\n",
       "      <th>43778</th>\n",
       "      <td>F</td>\n",
       "      <td>2016-04-27</td>\n",
       "      <td>2016-05-05</td>\n",
       "      <td>26</td>\n",
       "      <td>CONSOLAÇÃO</td>\n",
       "      <td>0</td>\n",
       "      <td>0</td>\n",
       "      <td>0</td>\n",
       "      <td>0</td>\n",
       "      <td>0</td>\n",
       "      <td>1</td>\n",
       "      <td>0</td>\n",
       "      <td>3</td>\n",
       "    </tr>\n",
       "  </tbody>\n",
       "</table>\n",
       "</div>"
      ],
      "text/plain": [
       "       gender scheduledday appointmentday  age     neighbourhood  scholarship  \\\n",
       "87956       F   2016-05-16     2016-06-03   68           ITARARÉ            0   \n",
       "3575        F   2016-04-13     2016-05-17   10            BONFIM            0   \n",
       "56648       F   2016-04-26     2016-05-05   57  ILHA DO PRÍNCIPE            1   \n",
       "110223      F   2016-05-11     2016-06-01   46       MARIA ORTIZ            0   \n",
       "43778       F   2016-04-27     2016-05-05   26        CONSOLAÇÃO            0   \n",
       "\n",
       "        hypertension  diabetes  alcoholism  handicap  smsreceived  showedup  \\\n",
       "87956              1         1           0         0            0         1   \n",
       "3575               0         0           0         0            0         1   \n",
       "56648              0         0           0         0            1         0   \n",
       "110223             0         0           0         0            1         0   \n",
       "43778              0         0           0         0            1         0   \n",
       "\n",
       "        agebins  \n",
       "87956         6  \n",
       "3575          1  \n",
       "56648         5  \n",
       "110223        4  \n",
       "43778         3  "
      ]
     },
     "execution_count": 26,
     "metadata": {},
     "output_type": "execute_result"
    }
   ],
   "source": [
    "# create categorical variable from the age feature\n",
    "# df['agebins'] = pd.qcut(df.age, 6, labels=['0-10', '11-24', '25-37', '38-50', '51-61', '62-115'])\n",
    "df['agebins'] = pd.qcut(df.age, 6, labels=[1, 2, 3, 4, 5, 6])\n",
    "\n",
    "# Note I am using the mapping labels=['0-10', '11-24', '25-37', '38-50', '51-61', '62-115']: labels=[1, 2, 3, 4, 5, 6]\n",
    "# convert the categorial data to numeri type\n",
    "df.agebins = pd.to_numeric(df.agebins)\n",
    "\n",
    "# test\n",
    "df.sample(5)"
   ]
  },
  {
   "cell_type": "markdown",
   "metadata": {},
   "source": [
    "Since I am interested in disovering on what day of the week most patients miss their appointments I will be feature engineering new features in the dataset called `scheduledweekday`, `appointmentweekday`, and `numofdaystoappointment`.\n",
    "\n",
    "In addition, since `appointmentday` is a later date than `scheduledday`, it is advisable to review the data to see records where the reverse is the case."
   ]
  },
  {
   "cell_type": "code",
   "execution_count": 27,
   "metadata": {},
   "outputs": [
    {
     "data": {
      "text/html": [
       "<div>\n",
       "<style scoped>\n",
       "    .dataframe tbody tr th:only-of-type {\n",
       "        vertical-align: middle;\n",
       "    }\n",
       "\n",
       "    .dataframe tbody tr th {\n",
       "        vertical-align: top;\n",
       "    }\n",
       "\n",
       "    .dataframe thead th {\n",
       "        text-align: right;\n",
       "    }\n",
       "</style>\n",
       "<table border=\"1\" class=\"dataframe\">\n",
       "  <thead>\n",
       "    <tr style=\"text-align: right;\">\n",
       "      <th></th>\n",
       "      <th>gender</th>\n",
       "      <th>scheduledday</th>\n",
       "      <th>appointmentday</th>\n",
       "      <th>age</th>\n",
       "      <th>neighbourhood</th>\n",
       "      <th>scholarship</th>\n",
       "      <th>hypertension</th>\n",
       "      <th>diabetes</th>\n",
       "      <th>alcoholism</th>\n",
       "      <th>handicap</th>\n",
       "      <th>smsreceived</th>\n",
       "      <th>showedup</th>\n",
       "      <th>agebins</th>\n",
       "    </tr>\n",
       "  </thead>\n",
       "  <tbody>\n",
       "    <tr>\n",
       "      <th>27033</th>\n",
       "      <td>M</td>\n",
       "      <td>2016-05-10</td>\n",
       "      <td>2016-05-09</td>\n",
       "      <td>38</td>\n",
       "      <td>RESISTÊNCIA</td>\n",
       "      <td>0</td>\n",
       "      <td>0</td>\n",
       "      <td>0</td>\n",
       "      <td>0</td>\n",
       "      <td>1</td>\n",
       "      <td>0</td>\n",
       "      <td>0</td>\n",
       "      <td>4</td>\n",
       "    </tr>\n",
       "    <tr>\n",
       "      <th>55226</th>\n",
       "      <td>F</td>\n",
       "      <td>2016-05-18</td>\n",
       "      <td>2016-05-17</td>\n",
       "      <td>19</td>\n",
       "      <td>SANTO ANTÔNIO</td>\n",
       "      <td>0</td>\n",
       "      <td>0</td>\n",
       "      <td>0</td>\n",
       "      <td>0</td>\n",
       "      <td>1</td>\n",
       "      <td>0</td>\n",
       "      <td>0</td>\n",
       "      <td>2</td>\n",
       "    </tr>\n",
       "    <tr>\n",
       "      <th>64175</th>\n",
       "      <td>F</td>\n",
       "      <td>2016-05-05</td>\n",
       "      <td>2016-05-04</td>\n",
       "      <td>22</td>\n",
       "      <td>CONSOLAÇÃO</td>\n",
       "      <td>0</td>\n",
       "      <td>0</td>\n",
       "      <td>0</td>\n",
       "      <td>0</td>\n",
       "      <td>0</td>\n",
       "      <td>0</td>\n",
       "      <td>0</td>\n",
       "      <td>2</td>\n",
       "    </tr>\n",
       "    <tr>\n",
       "      <th>71533</th>\n",
       "      <td>F</td>\n",
       "      <td>2016-05-11</td>\n",
       "      <td>2016-05-05</td>\n",
       "      <td>81</td>\n",
       "      <td>SANTO ANTÔNIO</td>\n",
       "      <td>0</td>\n",
       "      <td>0</td>\n",
       "      <td>0</td>\n",
       "      <td>0</td>\n",
       "      <td>0</td>\n",
       "      <td>0</td>\n",
       "      <td>0</td>\n",
       "      <td>6</td>\n",
       "    </tr>\n",
       "    <tr>\n",
       "      <th>72362</th>\n",
       "      <td>M</td>\n",
       "      <td>2016-05-04</td>\n",
       "      <td>2016-05-03</td>\n",
       "      <td>7</td>\n",
       "      <td>TABUAZEIRO</td>\n",
       "      <td>0</td>\n",
       "      <td>0</td>\n",
       "      <td>0</td>\n",
       "      <td>0</td>\n",
       "      <td>0</td>\n",
       "      <td>0</td>\n",
       "      <td>0</td>\n",
       "      <td>1</td>\n",
       "    </tr>\n",
       "  </tbody>\n",
       "</table>\n",
       "</div>"
      ],
      "text/plain": [
       "      gender scheduledday appointmentday  age  neighbourhood  scholarship  \\\n",
       "27033      M   2016-05-10     2016-05-09   38    RESISTÊNCIA            0   \n",
       "55226      F   2016-05-18     2016-05-17   19  SANTO ANTÔNIO            0   \n",
       "64175      F   2016-05-05     2016-05-04   22     CONSOLAÇÃO            0   \n",
       "71533      F   2016-05-11     2016-05-05   81  SANTO ANTÔNIO            0   \n",
       "72362      M   2016-05-04     2016-05-03    7     TABUAZEIRO            0   \n",
       "\n",
       "       hypertension  diabetes  alcoholism  handicap  smsreceived  showedup  \\\n",
       "27033             0         0           0         1            0         0   \n",
       "55226             0         0           0         1            0         0   \n",
       "64175             0         0           0         0            0         0   \n",
       "71533             0         0           0         0            0         0   \n",
       "72362             0         0           0         0            0         0   \n",
       "\n",
       "       agebins  \n",
       "27033        4  \n",
       "55226        2  \n",
       "64175        2  \n",
       "71533        6  \n",
       "72362        1  "
      ]
     },
     "execution_count": 27,
     "metadata": {},
     "output_type": "execute_result"
    }
   ],
   "source": [
    "# view records where scheduledday is greater than appointmentday\n",
    "df.loc[df.scheduledday > df.appointmentday]"
   ]
  },
  {
   "cell_type": "markdown",
   "metadata": {},
   "source": [
    "Now the above 5 rows of data may have gotten into the dataset via various means. I assume that the data entry staff interchanged the date order. I will now reverse the order."
   ]
  },
  {
   "cell_type": "code",
   "execution_count": 28,
   "metadata": {},
   "outputs": [
    {
     "data": {
      "text/html": [
       "<div>\n",
       "<style scoped>\n",
       "    .dataframe tbody tr th:only-of-type {\n",
       "        vertical-align: middle;\n",
       "    }\n",
       "\n",
       "    .dataframe tbody tr th {\n",
       "        vertical-align: top;\n",
       "    }\n",
       "\n",
       "    .dataframe thead th {\n",
       "        text-align: right;\n",
       "    }\n",
       "</style>\n",
       "<table border=\"1\" class=\"dataframe\">\n",
       "  <thead>\n",
       "    <tr style=\"text-align: right;\">\n",
       "      <th></th>\n",
       "      <th>gender</th>\n",
       "      <th>scheduledday</th>\n",
       "      <th>appointmentday</th>\n",
       "      <th>age</th>\n",
       "      <th>neighbourhood</th>\n",
       "      <th>scholarship</th>\n",
       "      <th>hypertension</th>\n",
       "      <th>diabetes</th>\n",
       "      <th>alcoholism</th>\n",
       "      <th>handicap</th>\n",
       "      <th>smsreceived</th>\n",
       "      <th>showedup</th>\n",
       "      <th>agebins</th>\n",
       "    </tr>\n",
       "  </thead>\n",
       "  <tbody>\n",
       "  </tbody>\n",
       "</table>\n",
       "</div>"
      ],
      "text/plain": [
       "Empty DataFrame\n",
       "Columns: [gender, scheduledday, appointmentday, age, neighbourhood, scholarship, hypertension, diabetes, alcoholism, handicap, smsreceived, showedup, agebins]\n",
       "Index: []"
      ]
     },
     "execution_count": 28,
     "metadata": {},
     "output_type": "execute_result"
    }
   ],
   "source": [
    "# Issue 9: Some scheduledday values greater than some appointmentday values\n",
    "# Code: Update the scheduledday feature values to be always less than the \n",
    "#         appointmentday feature values\n",
    "df.scheduledday = np.where((df.scheduledday - df.appointmentday).dt.days > 0, \n",
    "                          df.appointmentday, df.scheduledday)\n",
    "\n",
    "# Test\n",
    "df.loc[df.scheduledday > df.appointmentday]"
   ]
  },
  {
   "cell_type": "code",
   "execution_count": 29,
   "metadata": {},
   "outputs": [
    {
     "data": {
      "text/plain": [
       "Index(['gender', 'scheduledday', 'appointmentday', 'age', 'neighbourhood',\n",
       "       'scholarship', 'hypertension', 'diabetes', 'alcoholism', 'handicap',\n",
       "       'smsreceived', 'showedup', 'agebins'],\n",
       "      dtype='object')"
      ]
     },
     "execution_count": 29,
     "metadata": {},
     "output_type": "execute_result"
    }
   ],
   "source": [
    "df.columns "
   ]
  },
  {
   "cell_type": "code",
   "execution_count": 30,
   "metadata": {},
   "outputs": [],
   "source": [
    "# create features using a mapping of numerial weekdays with Monday=0 (Start) and Sunday=6 (End)\n",
    "df['scheduledweekday'] = df.scheduledday.dt.dayofweek\n",
    "df['appointmentweekday'] = df.appointmentday.dt.dayofweek\n",
    "df['numofdaystoappointment'] = df.appointmentday - df.scheduledday\n",
    "df['numofdaystoappointment'] = df.numofdaystoappointment.dt.days"
   ]
  },
  {
   "cell_type": "markdown",
   "metadata": {},
   "source": [
    "We now take a look at the `numofdaystoappointment` engineered feature. This feature contains a large number of unique and so shoud be set as a categorical data, and then converted to a numeric type to aid the analysis."
   ]
  },
  {
   "cell_type": "code",
   "execution_count": 31,
   "metadata": {},
   "outputs": [
    {
     "data": {
      "text/plain": [
       "gender                      2\n",
       "scheduledday              111\n",
       "appointmentday             27\n",
       "age                       103\n",
       "neighbourhood              81\n",
       "scholarship                 2\n",
       "hypertension                2\n",
       "diabetes                    2\n",
       "alcoholism                  2\n",
       "handicap                    2\n",
       "smsreceived                 2\n",
       "showedup                    2\n",
       "agebins                     6\n",
       "scheduledweekday            6\n",
       "appointmentweekday          6\n",
       "numofdaystoappointment    129\n",
       "dtype: int64"
      ]
     },
     "execution_count": 31,
     "metadata": {},
     "output_type": "execute_result"
    }
   ],
   "source": [
    "df.nunique()"
   ]
  },
  {
   "cell_type": "code",
   "execution_count": 32,
   "metadata": {},
   "outputs": [
    {
     "data": {
      "text/plain": [
       "[1, 2, 3, 4, 5, 6, 9, 8, 7]\n",
       "Categories (9, int64): [1 < 2 < 3 < 4 ... 6 < 7 < 8 < 9]"
      ]
     },
     "execution_count": 32,
     "metadata": {},
     "output_type": "execute_result"
    }
   ],
   "source": [
    "# create categorical variable from the numofdaystoappointment feature\n",
    "df['numofdaystoappointment'] = pd.cut(df.numofdaystoappointment, 9, \n",
    "                                      labels=[1,2,3,4,5,6,7,8,9], precision=0)\n",
    "df.numofdaystoappointment.unique()"
   ]
  },
  {
   "cell_type": "code",
   "execution_count": 33,
   "metadata": {},
   "outputs": [
    {
     "name": "stdout",
     "output_type": "stream",
     "text": [
      "<class 'pandas.core.frame.DataFrame'>\n",
      "RangeIndex: 110527 entries, 0 to 110526\n",
      "Data columns (total 16 columns):\n",
      " #   Column                  Non-Null Count   Dtype         \n",
      "---  ------                  --------------   -----         \n",
      " 0   gender                  110527 non-null  object        \n",
      " 1   scheduledday            110527 non-null  datetime64[ns]\n",
      " 2   appointmentday          110527 non-null  datetime64[ns]\n",
      " 3   age                     110527 non-null  int64         \n",
      " 4   neighbourhood           110527 non-null  object        \n",
      " 5   scholarship             110527 non-null  int64         \n",
      " 6   hypertension            110527 non-null  int64         \n",
      " 7   diabetes                110527 non-null  int64         \n",
      " 8   alcoholism              110527 non-null  int64         \n",
      " 9   handicap                110527 non-null  int64         \n",
      " 10  smsreceived             110527 non-null  int64         \n",
      " 11  showedup                110527 non-null  int64         \n",
      " 12  agebins                 110527 non-null  int64         \n",
      " 13  scheduledweekday        110527 non-null  int64         \n",
      " 14  appointmentweekday      110527 non-null  int64         \n",
      " 15  numofdaystoappointment  110527 non-null  int64         \n",
      "dtypes: datetime64[ns](2), int64(12), object(2)\n",
      "memory usage: 13.5+ MB\n"
     ]
    }
   ],
   "source": [
    "# Note I am using the mapping labels=[(-0.0, 20.0], (20.0, 40.0], \n",
    "# (40.0, 60.0], (60.0, 80.0], (80.0, 99.0], (99.0, 119.0], (159.0, 179.0], \n",
    "# (139.0, 159.0], (119.0, 139.0]]]: labels=[1, 2, 3, 4, 5, 6, 7, 8, 9]\n",
    "# convert the categorial data to numeric type\n",
    "df.numofdaystoappointment = pd.to_numeric(df.numofdaystoappointment)\n",
    "\n",
    "# test\n",
    "df.info()"
   ]
  },
  {
   "cell_type": "code",
   "execution_count": 34,
   "metadata": {},
   "outputs": [
    {
     "name": "stdout",
     "output_type": "stream",
     "text": [
      "<class 'pandas.core.frame.DataFrame'>\n",
      "RangeIndex: 110527 entries, 0 to 110526\n",
      "Data columns (total 16 columns):\n",
      " #   Column                  Non-Null Count   Dtype         \n",
      "---  ------                  --------------   -----         \n",
      " 0   gender                  110527 non-null  object        \n",
      " 1   scheduledday            110527 non-null  datetime64[ns]\n",
      " 2   appointmentday          110527 non-null  datetime64[ns]\n",
      " 3   age                     110527 non-null  int64         \n",
      " 4   neighbourhood           110527 non-null  object        \n",
      " 5   scholarship             110527 non-null  int64         \n",
      " 6   hypertension            110527 non-null  int64         \n",
      " 7   diabetes                110527 non-null  int64         \n",
      " 8   alcoholism              110527 non-null  int64         \n",
      " 9   handicap                110527 non-null  int64         \n",
      " 10  smsreceived             110527 non-null  int64         \n",
      " 11  agebins                 110527 non-null  int64         \n",
      " 12  scheduledweekday        110527 non-null  int64         \n",
      " 13  appointmentweekday      110527 non-null  int64         \n",
      " 14  numofdaystoappointment  110527 non-null  int64         \n",
      " 15  showedup                110527 non-null  int64         \n",
      "dtypes: datetime64[ns](2), int64(12), object(2)\n",
      "memory usage: 13.5+ MB\n"
     ]
    }
   ],
   "source": [
    "# I also think it would be tidy to move the showedup column to the end of the columns\n",
    "df = df.reindex(columns=[col for col in df.columns if col != 'showedup'] + ['showedup'])\n",
    "\n",
    "# Test\n",
    "df.info()"
   ]
  },
  {
   "cell_type": "markdown",
   "metadata": {},
   "source": [
    "<a id='eda'></a>\n",
    "## Exploratory Data Analysis\n",
    "\n",
    "\n",
    "### Research Question 1: What are the important factors that could be used to predict if a patient will show up for their scheduled appointment?"
   ]
  },
  {
   "cell_type": "code",
   "execution_count": 35,
   "metadata": {},
   "outputs": [
    {
     "data": {
      "image/png": "[encoded data removed]",
      "text/plain": [
       "<Figure size 864x576 with 16 Axes>"
      ]
     },
     "metadata": {
      "needs_background": "light"
     },
     "output_type": "display_data"
    }
   ],
   "source": [
    "# exploring the dataset via a histogram object \n",
    "df.hist(figsize=(12,8), bins=5);"
   ]
  },
  {
   "cell_type": "code",
   "execution_count": 36,
   "metadata": {},
   "outputs": [
    {
     "data": {
      "text/html": [
       "<div>\n",
       "<style scoped>\n",
       "    .dataframe tbody tr th:only-of-type {\n",
       "        vertical-align: middle;\n",
       "    }\n",
       "\n",
       "    .dataframe tbody tr th {\n",
       "        vertical-align: top;\n",
       "    }\n",
       "\n",
       "    .dataframe thead th {\n",
       "        text-align: right;\n",
       "    }\n",
       "</style>\n",
       "<table border=\"1\" class=\"dataframe\">\n",
       "  <thead>\n",
       "    <tr style=\"text-align: right;\">\n",
       "      <th></th>\n",
       "      <th>age</th>\n",
       "      <th>scholarship</th>\n",
       "      <th>hypertension</th>\n",
       "      <th>diabetes</th>\n",
       "      <th>alcoholism</th>\n",
       "      <th>handicap</th>\n",
       "      <th>smsreceived</th>\n",
       "      <th>agebins</th>\n",
       "      <th>scheduledweekday</th>\n",
       "      <th>appointmentweekday</th>\n",
       "      <th>numofdaystoappointment</th>\n",
       "      <th>showedup</th>\n",
       "    </tr>\n",
       "  </thead>\n",
       "  <tbody>\n",
       "    <tr>\n",
       "      <th>age</th>\n",
       "      <td>1.000000</td>\n",
       "      <td>-0.092458</td>\n",
       "      <td>0.504586</td>\n",
       "      <td>0.292392</td>\n",
       "      <td>0.095811</td>\n",
       "      <td>0.083743</td>\n",
       "      <td>0.012643</td>\n",
       "      <td>0.979602</td>\n",
       "      <td>0.011430</td>\n",
       "      <td>0.003087</td>\n",
       "      <td>0.038658</td>\n",
       "      <td>0.060319</td>\n",
       "    </tr>\n",
       "    <tr>\n",
       "      <th>scholarship</th>\n",
       "      <td>-0.092458</td>\n",
       "      <td>1.000000</td>\n",
       "      <td>-0.019729</td>\n",
       "      <td>-0.024894</td>\n",
       "      <td>0.035022</td>\n",
       "      <td>-0.009103</td>\n",
       "      <td>0.001194</td>\n",
       "      <td>-0.092455</td>\n",
       "      <td>-0.004956</td>\n",
       "      <td>-0.000673</td>\n",
       "      <td>-0.032218</td>\n",
       "      <td>-0.029135</td>\n",
       "    </tr>\n",
       "    <tr>\n",
       "      <th>hypertension</th>\n",
       "      <td>0.504586</td>\n",
       "      <td>-0.019729</td>\n",
       "      <td>1.000000</td>\n",
       "      <td>0.433086</td>\n",
       "      <td>0.087971</td>\n",
       "      <td>0.084852</td>\n",
       "      <td>-0.006267</td>\n",
       "      <td>0.498797</td>\n",
       "      <td>0.000695</td>\n",
       "      <td>0.003455</td>\n",
       "      <td>-0.014153</td>\n",
       "      <td>0.035701</td>\n",
       "    </tr>\n",
       "    <tr>\n",
       "      <th>diabetes</th>\n",
       "      <td>0.292392</td>\n",
       "      <td>-0.024894</td>\n",
       "      <td>0.433086</td>\n",
       "      <td>1.000000</td>\n",
       "      <td>0.018474</td>\n",
       "      <td>0.059145</td>\n",
       "      <td>-0.014550</td>\n",
       "      <td>0.293357</td>\n",
       "      <td>-0.000378</td>\n",
       "      <td>0.006614</td>\n",
       "      <td>-0.022923</td>\n",
       "      <td>0.015180</td>\n",
       "    </tr>\n",
       "    <tr>\n",
       "      <th>alcoholism</th>\n",
       "      <td>0.095811</td>\n",
       "      <td>0.035022</td>\n",
       "      <td>0.087971</td>\n",
       "      <td>0.018474</td>\n",
       "      <td>1.000000</td>\n",
       "      <td>0.003692</td>\n",
       "      <td>-0.026147</td>\n",
       "      <td>0.104517</td>\n",
       "      <td>0.006633</td>\n",
       "      <td>0.002701</td>\n",
       "      <td>-0.032152</td>\n",
       "      <td>0.000196</td>\n",
       "    </tr>\n",
       "    <tr>\n",
       "      <th>handicap</th>\n",
       "      <td>0.083743</td>\n",
       "      <td>-0.009103</td>\n",
       "      <td>0.084852</td>\n",
       "      <td>0.059145</td>\n",
       "      <td>0.003692</td>\n",
       "      <td>1.000000</td>\n",
       "      <td>-0.025220</td>\n",
       "      <td>0.076316</td>\n",
       "      <td>0.001017</td>\n",
       "      <td>0.004571</td>\n",
       "      <td>-0.015220</td>\n",
       "      <td>0.007281</td>\n",
       "    </tr>\n",
       "    <tr>\n",
       "      <th>smsreceived</th>\n",
       "      <td>0.012643</td>\n",
       "      <td>0.001194</td>\n",
       "      <td>-0.006267</td>\n",
       "      <td>-0.014550</td>\n",
       "      <td>-0.026147</td>\n",
       "      <td>-0.025220</td>\n",
       "      <td>1.000000</td>\n",
       "      <td>0.014162</td>\n",
       "      <td>0.078568</td>\n",
       "      <td>-0.089858</td>\n",
       "      <td>0.270075</td>\n",
       "      <td>-0.126431</td>\n",
       "    </tr>\n",
       "    <tr>\n",
       "      <th>agebins</th>\n",
       "      <td>0.979602</td>\n",
       "      <td>-0.092455</td>\n",
       "      <td>0.498797</td>\n",
       "      <td>0.293357</td>\n",
       "      <td>0.104517</td>\n",
       "      <td>0.076316</td>\n",
       "      <td>0.014162</td>\n",
       "      <td>1.000000</td>\n",
       "      <td>0.010213</td>\n",
       "      <td>0.002659</td>\n",
       "      <td>0.037166</td>\n",
       "      <td>0.062240</td>\n",
       "    </tr>\n",
       "    <tr>\n",
       "      <th>scheduledweekday</th>\n",
       "      <td>0.011430</td>\n",
       "      <td>-0.004956</td>\n",
       "      <td>0.000695</td>\n",
       "      <td>-0.000378</td>\n",
       "      <td>0.006633</td>\n",
       "      <td>0.001017</td>\n",
       "      <td>0.078568</td>\n",
       "      <td>0.010213</td>\n",
       "      <td>1.000000</td>\n",
       "      <td>0.328819</td>\n",
       "      <td>0.003398</td>\n",
       "      <td>-0.005981</td>\n",
       "    </tr>\n",
       "    <tr>\n",
       "      <th>appointmentweekday</th>\n",
       "      <td>0.003087</td>\n",
       "      <td>-0.000673</td>\n",
       "      <td>0.003455</td>\n",
       "      <td>0.006614</td>\n",
       "      <td>0.002701</td>\n",
       "      <td>0.004571</td>\n",
       "      <td>-0.089858</td>\n",
       "      <td>0.002659</td>\n",
       "      <td>0.328819</td>\n",
       "      <td>1.000000</td>\n",
       "      <td>-0.009267</td>\n",
       "      <td>-0.001165</td>\n",
       "    </tr>\n",
       "    <tr>\n",
       "      <th>numofdaystoappointment</th>\n",
       "      <td>0.038658</td>\n",
       "      <td>-0.032218</td>\n",
       "      <td>-0.014153</td>\n",
       "      <td>-0.022923</td>\n",
       "      <td>-0.032152</td>\n",
       "      <td>-0.015220</td>\n",
       "      <td>0.270075</td>\n",
       "      <td>0.037166</td>\n",
       "      <td>0.003398</td>\n",
       "      <td>-0.009267</td>\n",
       "      <td>1.000000</td>\n",
       "      <td>-0.126045</td>\n",
       "    </tr>\n",
       "    <tr>\n",
       "      <th>showedup</th>\n",
       "      <td>0.060319</td>\n",
       "      <td>-0.029135</td>\n",
       "      <td>0.035701</td>\n",
       "      <td>0.015180</td>\n",
       "      <td>0.000196</td>\n",
       "      <td>0.007281</td>\n",
       "      <td>-0.126431</td>\n",
       "      <td>0.062240</td>\n",
       "      <td>-0.005981</td>\n",
       "      <td>-0.001165</td>\n",
       "      <td>-0.126045</td>\n",
       "      <td>1.000000</td>\n",
       "    </tr>\n",
       "  </tbody>\n",
       "</table>\n",
       "</div>"
      ],
      "text/plain": [
       "                             age  scholarship  hypertension  diabetes  \\\n",
       "age                     1.000000    -0.092458      0.504586  0.292392   \n",
       "scholarship            -0.092458     1.000000     -0.019729 -0.024894   \n",
       "hypertension            0.504586    -0.019729      1.000000  0.433086   \n",
       "diabetes                0.292392    -0.024894      0.433086  1.000000   \n",
       "alcoholism              0.095811     0.035022      0.087971  0.018474   \n",
       "handicap                0.083743    -0.009103      0.084852  0.059145   \n",
       "smsreceived             0.012643     0.001194     -0.006267 -0.014550   \n",
       "agebins                 0.979602    -0.092455      0.498797  0.293357   \n",
       "scheduledweekday        0.011430    -0.004956      0.000695 -0.000378   \n",
       "appointmentweekday      0.003087    -0.000673      0.003455  0.006614   \n",
       "numofdaystoappointment  0.038658    -0.032218     -0.014153 -0.022923   \n",
       "showedup                0.060319    -0.029135      0.035701  0.015180   \n",
       "\n",
       "                        alcoholism  handicap  smsreceived   agebins  \\\n",
       "age                       0.095811  0.083743     0.012643  0.979602   \n",
       "scholarship               0.035022 -0.009103     0.001194 -0.092455   \n",
       "hypertension              0.087971  0.084852    -0.006267  0.498797   \n",
       "diabetes                  0.018474  0.059145    -0.014550  0.293357   \n",
       "alcoholism                1.000000  0.003692    -0.026147  0.104517   \n",
       "handicap                  0.003692  1.000000    -0.025220  0.076316   \n",
       "smsreceived              -0.026147 -0.025220     1.000000  0.014162   \n",
       "agebins                   0.104517  0.076316     0.014162  1.000000   \n",
       "scheduledweekday          0.006633  0.001017     0.078568  0.010213   \n",
       "appointmentweekday        0.002701  0.004571    -0.089858  0.002659   \n",
       "numofdaystoappointment   -0.032152 -0.015220     0.270075  0.037166   \n",
       "showedup                  0.000196  0.007281    -0.126431  0.062240   \n",
       "\n",
       "                        scheduledweekday  appointmentweekday  \\\n",
       "age                             0.011430            0.003087   \n",
       "scholarship                    -0.004956           -0.000673   \n",
       "hypertension                    0.000695            0.003455   \n",
       "diabetes                       -0.000378            0.006614   \n",
       "alcoholism                      0.006633            0.002701   \n",
       "handicap                        0.001017            0.004571   \n",
       "smsreceived                     0.078568           -0.089858   \n",
       "agebins                         0.010213            0.002659   \n",
       "scheduledweekday                1.000000            0.328819   \n",
       "appointmentweekday              0.328819            1.000000   \n",
       "numofdaystoappointment          0.003398           -0.009267   \n",
       "showedup                       -0.005981           -0.001165   \n",
       "\n",
       "                        numofdaystoappointment  showedup  \n",
       "age                                   0.038658  0.060319  \n",
       "scholarship                          -0.032218 -0.029135  \n",
       "hypertension                         -0.014153  0.035701  \n",
       "diabetes                             -0.022923  0.015180  \n",
       "alcoholism                           -0.032152  0.000196  \n",
       "handicap                             -0.015220  0.007281  \n",
       "smsreceived                           0.270075 -0.126431  \n",
       "agebins                               0.037166  0.062240  \n",
       "scheduledweekday                      0.003398 -0.005981  \n",
       "appointmentweekday                   -0.009267 -0.001165  \n",
       "numofdaystoappointment                1.000000 -0.126045  \n",
       "showedup                             -0.126045  1.000000  "
      ]
     },
     "execution_count": 36,
     "metadata": {},
     "output_type": "execute_result"
    }
   ],
   "source": [
    "# exploring the dataset via the default pandas correlation object \n",
    "df.corr()"
   ]
  },
  {
   "cell_type": "code",
   "execution_count": 37,
   "metadata": {},
   "outputs": [
    {
     "data": {
      "image/png": "[encoded data removed]",
      "text/plain": [
       "<Figure size 800x400 with 2 Axes>"
      ]
     },
     "metadata": {
      "needs_background": "light"
     },
     "output_type": "display_data"
    }
   ],
   "source": [
    "# view the correlation using seaborn \n",
    "plt.figure(figsize=(8,4), dpi=100)\n",
    "sns.heatmap(df.corr(), vmin=-1, vmax=1, annot=True, \n",
    "            cmap='YlGnBu').set_title('Correlation Heatmap for all Variables');"
   ]
  },
  {
   "cell_type": "markdown",
   "metadata": {},
   "source": [
    "On the face of it, using the correlation view, this dataset does not immediately present a clear relationship between the `showedup` feature and other features in the dataset."
   ]
  },
  {
   "cell_type": "code",
   "execution_count": 38,
   "metadata": {},
   "outputs": [
    {
     "data": {
      "image/png": "[encoded data removed]",
      "text/plain": [
       "<Figure size 432x288 with 2 Axes>"
      ]
     },
     "metadata": {
      "needs_background": "light"
     },
     "output_type": "display_data"
    }
   ],
   "source": [
    "# visualizing the correlation of showedup with other features on 1-D\n",
    "sns.heatmap(df.corr()[['showedup']].sort_values(by='showedup', ascending=False),\n",
    "           vmin=-1, vmax=1, annot=True, cmap='YlGnBu').set_title('Features Correlating with showedup');"
   ]
  },
  {
   "cell_type": "markdown",
   "metadata": {},
   "source": [
    "The above visual still shows no clear relationship between the variables and its support for the `showedup` variable.\n",
    "\n",
    "Would now take a look at the relationship between variables using their probabilities."
   ]
  },
  {
   "cell_type": "code",
   "execution_count": 39,
   "metadata": {},
   "outputs": [],
   "source": [
    "def showedup_proba(data, selector):\n",
    "    '''Function to calulate the probability of patient showing up for their \n",
    "    appointment wrt other variables\n",
    "    '''\n",
    "    df = pd.crosstab(data[selector], data.showedup).reset_index()\n",
    "    df['probabilityofshowup'] = df[1]/(df[1]+df[0])\n",
    "    \n",
    "    return df[[selector, 'probabilityofshowup']]"
   ]
  },
  {
   "cell_type": "code",
   "execution_count": 40,
   "metadata": {},
   "outputs": [
    {
     "data": {
      "image/png": "[encoded data removed]",
      "text/plain": [
       "<Figure size 360x360 with 1 Axes>"
      ]
     },
     "metadata": {
      "needs_background": "light"
     },
     "output_type": "display_data"
    }
   ],
   "source": [
    "# probability of patient showing up for their appointment wrt agebins feature\n",
    "sns.lmplot(data=showedup_proba(df, 'agebins'), x='agebins', y='probabilityofshowup', fit_reg=True);\n",
    "plt.title('Probability of showing up wrt agebins feature');"
   ]
  },
  {
   "cell_type": "markdown",
   "metadata": {},
   "source": [
    "From the probability visualization on the `agebins` feature, the data suggests that older patients show a higher probability of showing up for their appointments."
   ]
  },
  {
   "cell_type": "code",
   "execution_count": 41,
   "metadata": {},
   "outputs": [
    {
     "data": {
      "image/png": "[encoded data removed]",
      "text/plain": [
       "<Figure size 360x360 with 1 Axes>"
      ]
     },
     "metadata": {
      "needs_background": "light"
     },
     "output_type": "display_data"
    }
   ],
   "source": [
    "# probability of patient showing up for their appointment wrt scholarship feature\n",
    "sns.lmplot(data=showedup_proba(df, 'scholarship'), x='scholarship', y='probabilityofshowup', fit_reg=True);\n",
    "plt.title('Probability of showing up wrt scholarship feature');"
   ]
  },
  {
   "cell_type": "markdown",
   "metadata": {},
   "source": [
    "From the probability visualization on the `scholarship` feature, the data suggests that patients without a `scholarship` actually show a higher probability of showing up for their appointments than those with a `scholarship`."
   ]
  },
  {
   "cell_type": "code",
   "execution_count": 42,
   "metadata": {},
   "outputs": [
    {
     "data": {
      "image/png": "[encoded data removed]",
      "text/plain": [
       "<Figure size 360x360 with 1 Axes>"
      ]
     },
     "metadata": {
      "needs_background": "light"
     },
     "output_type": "display_data"
    }
   ],
   "source": [
    "# probability of patient showing up for their appointment wrt smsreceived feature\n",
    "sns.lmplot(data=showedup_proba(df, 'smsreceived'), x='smsreceived', y='probabilityofshowup', fit_reg=True);\n",
    "plt.title('Probability of showing up wrt smsreceived feature');"
   ]
  },
  {
   "cell_type": "markdown",
   "metadata": {},
   "source": [
    "From the probability visualization on the `smsreceived` feature, the data suggests that patients that infact received an SMS have a lower probability of appearing for their appointments. This looks counter-intuitive.\n",
    "\n",
    "It might be a good idea to further research this phenomenon at a later date."
   ]
  },
  {
   "cell_type": "code",
   "execution_count": 43,
   "metadata": {},
   "outputs": [
    {
     "data": {
      "image/png": "[encoded data removed]",
      "text/plain": [
       "<Figure size 360x360 with 1 Axes>"
      ]
     },
     "metadata": {
      "needs_background": "light"
     },
     "output_type": "display_data"
    }
   ],
   "source": [
    "# probability of patient showing up for their appointment wrt scheduledweekday feature\n",
    "sns.lmplot(data=showedup_proba(df, 'scheduledweekday'), x='scheduledweekday', y='probabilityofshowup', fit_reg=True);\n",
    "plt.title('Probability of showing up wrt scheduledweekday feature');"
   ]
  },
  {
   "cell_type": "markdown",
   "metadata": {},
   "source": [
    "The data from the `scheduledweekday` feature suggests that the vast majority of the appointments were scheduled before Saturday and all such schedules have almost equal probability of showing up for the appointments. However, appointments scheduled on Saturday showed a high level of conformity (over 95%) with showing up for their appointments."
   ]
  },
  {
   "cell_type": "code",
   "execution_count": 44,
   "metadata": {},
   "outputs": [
    {
     "data": {
      "image/png": "[encoded data removed]",
      "text/plain": [
       "<Figure size 360x360 with 1 Axes>"
      ]
     },
     "metadata": {
      "needs_background": "light"
     },
     "output_type": "display_data"
    }
   ],
   "source": [
    "# probability of patient showing up for their appointment wrt appointmentweekday feature\n",
    "sns.lmplot(data=showedup_proba(df, 'appointmentweekday'), x='appointmentweekday', y='probabilityofshowup', fit_reg=True);\n",
    "plt.title('Probability of showing up wrt appointmentweekday feature');"
   ]
  },
  {
   "cell_type": "markdown",
   "metadata": {},
   "source": [
    "From the probability visualization on the `appointmentweekday` feature, the data suggests that appointments scheduled for Saturdays have a lower probability  of showing up for the appointments. However, appointments scheduled for midweek showed a good level of conformity (over 80%) with showing up for their appointments."
   ]
  },
  {
   "cell_type": "markdown",
   "metadata": {},
   "source": [
    "### Research Question 2: How does the presence of a health condition affect the showing up or not of a patient?"
   ]
  },
  {
   "cell_type": "code",
   "execution_count": 45,
   "metadata": {},
   "outputs": [
    {
     "data": {
      "image/png": "[encoded data removed]",
      "text/plain": [
       "<Figure size 360x360 with 1 Axes>"
      ]
     },
     "metadata": {
      "needs_background": "light"
     },
     "output_type": "display_data"
    }
   ],
   "source": [
    "# probability of patient showing up for their appointment wrt hypertension feature\n",
    "sns.lmplot(data=showedup_proba(df, 'hypertension'), x='hypertension', y='probabilityofshowup', fit_reg=True);\n",
    "plt.title('Probability of showing up wrt hypertension feature');"
   ]
  },
  {
   "cell_type": "markdown",
   "metadata": {},
   "source": [
    "From the probability visualization on the `hypertension` feature, the data suggests very weak correlation between patients with `hypertension` and those without and their ability to show up for their appointments. Generally, patients with `hypertension` show a higher probability of showing up for their appointments than those without `hypertension`."
   ]
  },
  {
   "cell_type": "code",
   "execution_count": 46,
   "metadata": {},
   "outputs": [
    {
     "data": {
      "image/png": "[encoded data removed]",
      "text/plain": [
       "<Figure size 360x360 with 1 Axes>"
      ]
     },
     "metadata": {
      "needs_background": "light"
     },
     "output_type": "display_data"
    }
   ],
   "source": [
    "# probability of patient showing up for their appointment wrt diabetes feature\n",
    "sns.lmplot(data=showedup_proba(df, 'diabetes'), x='diabetes', y='probabilityofshowup', \n",
    "           fit_reg=True);\n",
    "plt.title('Probability of showing up wrt diabetes feature');\n",
    "# plt.xticks(df.agebins, labels=['0-10', '11-24', '25-37', '38-50', '51-61', '62-115'])\n",
    "# plt.show()"
   ]
  },
  {
   "cell_type": "markdown",
   "metadata": {},
   "source": [
    "From the probability visualization on the `diabetes` feature, the data suggests very weak correlation between patients with `diabetes` and those without and their ability to show up for their appointments. Generally, patients with `diabetes` show a higher probability of showing up for their appointments than those without `diabetes`."
   ]
  },
  {
   "cell_type": "code",
   "execution_count": 47,
   "metadata": {},
   "outputs": [
    {
     "data": {
      "image/png": "[encoded data removed]",
      "text/plain": [
       "<Figure size 360x360 with 1 Axes>"
      ]
     },
     "metadata": {
      "needs_background": "light"
     },
     "output_type": "display_data"
    }
   ],
   "source": [
    "# probability of patient showing up for their appointment wrt alcoholism feature\n",
    "sns.lmplot(data=showedup_proba(df, 'alcoholism'), x='alcoholism', y='probabilityofshowup', \n",
    "           fit_reg=True);\n",
    "plt.title('Probability of showing up wrt alcoholism feature');\n",
    "# plt.xticks(df.agebins, labels=['0-10', '11-24', '25-37', '38-50', '51-61', '62-115'])\n",
    "# plt.show()"
   ]
  },
  {
   "cell_type": "markdown",
   "metadata": {},
   "source": [
    "From the probability visualization on the `alcoholism` feature, the data suggests very weak correlation between patients with `alcoholism` and those without and their ability to show up for their appointments. Generally, there is no noticable difference between patients with `alcoholism` and those without. They both have the same probability of showing up foro their appointments."
   ]
  },
  {
   "cell_type": "code",
   "execution_count": 48,
   "metadata": {},
   "outputs": [
    {
     "data": {
      "image/png": "[encoded data removed]",
      "text/plain": [
       "<Figure size 360x360 with 1 Axes>"
      ]
     },
     "metadata": {
      "needs_background": "light"
     },
     "output_type": "display_data"
    }
   ],
   "source": [
    "# probability of patient showing up for their appointment wrt handicap feature\n",
    "sns.lmplot(data=showedup_proba(df, 'handicap'), x='handicap', y='probabilityofshowup', \n",
    "           fit_reg=True);\n",
    "plt.title('Probability of showing up wrt handicap feature');\n",
    "# plt.xticks(df.agebins, labels=['0-10', '11-24', '25-37', '38-50', '51-61', '62-115'])\n",
    "# plt.show()"
   ]
  },
  {
   "cell_type": "markdown",
   "metadata": {},
   "source": [
    "From the probability visualization on the `handicap` feature, the data suggests very weak correlation between patients with `handicap` and those without and their ability to show up for their appointments. Generally, patients with `handicap` show a higher probability of showing up for their appointments than those without `handicap`.\n",
    "\n",
    "The dataset presented 3 health conditions vis-a-vis `hypertension`, `diabetes`, `alcoholism` and `handicap`. From the probability visualization review of the relationship between such conditions and showing up for the appointments, we see that the presence or absence of such medical conditions did not greatly improve or limit the patient's ability to honor the appointment."
   ]
  },
  {
   "cell_type": "markdown",
   "metadata": {},
   "source": [
    "### Research Question 3: Is there a relationship between the number of days to the appointment and failure to show up for the appointment?"
   ]
  },
  {
   "cell_type": "code",
   "execution_count": 49,
   "metadata": {},
   "outputs": [
    {
     "data": {
      "image/png": "[encoded data removed]",
      "text/plain": [
       "<Figure size 360x360 with 1 Axes>"
      ]
     },
     "metadata": {
      "needs_background": "light"
     },
     "output_type": "display_data"
    }
   ],
   "source": [
    "# probability of patient showing up for their appointment wrt numofdaystoappointment feature\n",
    "sns.lmplot(data=showedup_proba(df, 'numofdaystoappointment'), x='numofdaystoappointment', y='probabilityofshowup', \n",
    "           fit_reg=True);\n",
    "plt.title('Probability of showing up wrt numofdaystoappointment feature');"
   ]
  },
  {
   "cell_type": "markdown",
   "metadata": {},
   "source": [
    "From the probability visualization on the `numofdaystoappointment` feature, the data suggests that appointments that have a longer period duration have a lower probability of showing up than appointments that do not have such long wait times. However, this is not very conclusive."
   ]
  },
  {
   "cell_type": "markdown",
   "metadata": {},
   "source": [
    "<a id='conclusions'></a>\n",
    "## Conclusions"
   ]
  },
  {
   "cell_type": "markdown",
   "metadata": {},
   "source": [
    "This data analysis project analysed the provided dataset with a view to answering some questions about the no-show to appointments by patients in Brazil. The questions we are attempting to answer are included at the introdution of this report.\n",
    "\n",
    "From the data analysis we see that the features `age` (via the `agebins` engineered feature), `scheduledday` (via the `scheduledweekday` engineered feature), and `appointmentday` (via the `appointmentweekday` engineered feature) are important factors that could be used to predit if a patient would show up for their appointments or not. We could perform further research, later, to discover the relationship between the `agebins` and the `handicap` features. Namely, are there patients with a `handicap` and with an `age` greater than 50 who always attended their appointments?\n",
    "\n",
    "The data suggests that older patients (patients above 50 years) are more likely to show up for their appointments; while patients that registered their appointments on a saturday are more likey to keep their appointments while patients that are scheduled for Fridays or Saturdays are least likely to show up for their appointments.\n",
    "\n",
    "We also observed that the documented health conditions of `hypertension`, `diabetes`, `alcoholism`, and `handicap`, individually does not play a significant role in informing if a patient would miss their appointments. A further research on this might be to review if there are patients with multiple health conditions and if such multiple conditions would play a signifiant role in their missing their appointments.\n",
    "\n",
    "We also allowed the data to speak about the relationship between the wait duration (`numofdaystoappointment` feature) and the probability of not showing for an appointment. We observed that appointments with such long wait duration have a lower probability of showing up than appointments that do not have such long wait times. However, this is not very conclusive.\n",
    "\n",
    "It should be noted that I did not remove data others might have perceived as outliers in the `age`column because I am of the opinion that these are real patients and that their ppresence does not greatly affect the analysis negatively.\n",
    "\n",
    "Another limitation of this dataset is that the `appointmentday` feature seems to be a slice of a larger dataset, since it only presented records for a little over 1 month while the `scheduledday` feature showed a record spanning almost a year. It might also be a limitation that the condensed days for the `appointmentday` feature had a large number of publi holidays as maybe offered by the Brazilian Government."
   ]
  },
  {
   "cell_type": "code",
   "execution_count": 50,
   "metadata": {},
   "outputs": [
    {
     "data": {
      "text/plain": [
       "1"
      ]
     },
     "execution_count": 50,
     "metadata": {},
     "output_type": "execute_result"
    }
   ],
   "source": [
    "from subprocess import call\n",
    "call(['python', '-m', 'nbconvert', 'Investigate_a_Dataset.ipynb'])"
   ]
  }
 ],
 "metadata": {
  "kernelspec": {
   "display_name": "Python 3",
   "language": "python",
   "name": "python3"
  },
  "language_info": {
   "codemirror_mode": {
    "name": "ipython",
    "version": 3
   },
   "file_extension": ".py",
   "mimetype": "text/x-python",
   "name": "python",
   "nbconvert_exporter": "python",
   "pygments_lexer": "ipython3",
   "version": "3.8.5"
  },
  "vscode": {
   "interpreter": {
    "hash": "521bf7455475e01029a6e1ce86293da9a34e66a3148b1e794f30a61c754b1e37"
   }
  }
 },
 "nbformat": 4,
 "nbformat_minor": 2
}
